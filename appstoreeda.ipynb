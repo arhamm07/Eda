{
 "cells": [
  {
   "cell_type": "code",
   "execution_count": 1,
   "id": "9dc99baf",
   "metadata": {
    "execution": {
     "iopub.execute_input": "2024-01-22T12:34:42.611248Z",
     "iopub.status.busy": "2024-01-22T12:34:42.610398Z",
     "iopub.status.idle": "2024-01-22T12:34:44.265741Z",
     "shell.execute_reply": "2024-01-22T12:34:44.264766Z"
    },
    "papermill": {
     "duration": 1.679151,
     "end_time": "2024-01-22T12:34:44.268481",
     "exception": false,
     "start_time": "2024-01-22T12:34:42.589330",
     "status": "completed"
    },
    "tags": []
   },
   "outputs": [],
   "source": [
    "import pandas as pd\n",
    "import numpy as np\n",
    "import matplotlib.pyplot as plt\n",
    "%matplotlib inline\n",
    "import warnings\n",
    "import seaborn as sns"
   ]
  },
  {
   "cell_type": "code",
   "execution_count": 2,
   "id": "fb187d18",
   "metadata": {
    "execution": {
     "iopub.execute_input": "2024-01-22T12:34:44.303799Z",
     "iopub.status.busy": "2024-01-22T12:34:44.302480Z",
     "iopub.status.idle": "2024-01-22T12:35:05.982225Z",
     "shell.execute_reply": "2024-01-22T12:35:05.980975Z"
    },
    "papermill": {
     "duration": 21.700367,
     "end_time": "2024-01-22T12:35:05.985243",
     "exception": false,
     "start_time": "2024-01-22T12:34:44.284876",
     "status": "completed"
    },
    "tags": []
   },
   "outputs": [],
   "source": [
    "df = pd.read_csv('/kaggle/input/apple-appstore-apps/appleAppData.csv')"
   ]
  },
  {
   "cell_type": "code",
   "execution_count": 3,
   "id": "abe6b47e",
   "metadata": {
    "execution": {
     "iopub.execute_input": "2024-01-22T12:35:06.020277Z",
     "iopub.status.busy": "2024-01-22T12:35:06.019851Z",
     "iopub.status.idle": "2024-01-22T12:35:06.061776Z",
     "shell.execute_reply": "2024-01-22T12:35:06.060516Z"
    },
    "papermill": {
     "duration": 0.062246,
     "end_time": "2024-01-22T12:35:06.064616",
     "exception": false,
     "start_time": "2024-01-22T12:35:06.002370",
     "status": "completed"
    },
    "tags": []
   },
   "outputs": [
    {
     "data": {
      "text/html": [
       "<div>\n",
       "<style scoped>\n",
       "    .dataframe tbody tr th:only-of-type {\n",
       "        vertical-align: middle;\n",
       "    }\n",
       "\n",
       "    .dataframe tbody tr th {\n",
       "        vertical-align: top;\n",
       "    }\n",
       "\n",
       "    .dataframe thead th {\n",
       "        text-align: right;\n",
       "    }\n",
       "</style>\n",
       "<table border=\"1\" class=\"dataframe\">\n",
       "  <thead>\n",
       "    <tr style=\"text-align: right;\">\n",
       "      <th></th>\n",
       "      <th>App_Id</th>\n",
       "      <th>App_Name</th>\n",
       "      <th>AppStore_Url</th>\n",
       "      <th>Primary_Genre</th>\n",
       "      <th>Content_Rating</th>\n",
       "      <th>Size_Bytes</th>\n",
       "      <th>Required_IOS_Version</th>\n",
       "      <th>Released</th>\n",
       "      <th>Updated</th>\n",
       "      <th>Version</th>\n",
       "      <th>...</th>\n",
       "      <th>Currency</th>\n",
       "      <th>Free</th>\n",
       "      <th>DeveloperId</th>\n",
       "      <th>Developer</th>\n",
       "      <th>Developer_Url</th>\n",
       "      <th>Developer_Website</th>\n",
       "      <th>Average_User_Rating</th>\n",
       "      <th>Reviews</th>\n",
       "      <th>Current_Version_Score</th>\n",
       "      <th>Current_Version_Reviews</th>\n",
       "    </tr>\n",
       "  </thead>\n",
       "  <tbody>\n",
       "    <tr>\n",
       "      <th>0</th>\n",
       "      <td>com.hkbu.arc.apaper</td>\n",
       "      <td>A+ Paper Guide</td>\n",
       "      <td>https://apps.apple.com/us/app/a-paper-guide/id...</td>\n",
       "      <td>Education</td>\n",
       "      <td>4+</td>\n",
       "      <td>21993472.0</td>\n",
       "      <td>8.0</td>\n",
       "      <td>2017-09-28T03:02:41Z</td>\n",
       "      <td>2018-12-21T21:30:36Z</td>\n",
       "      <td>1.1.2</td>\n",
       "      <td>...</td>\n",
       "      <td>USD</td>\n",
       "      <td>True</td>\n",
       "      <td>1375410542</td>\n",
       "      <td>HKBU ARC</td>\n",
       "      <td>https://apps.apple.com/us/developer/hkbu-arc/i...</td>\n",
       "      <td>NaN</td>\n",
       "      <td>0.0</td>\n",
       "      <td>0</td>\n",
       "      <td>0.0</td>\n",
       "      <td>0</td>\n",
       "    </tr>\n",
       "    <tr>\n",
       "      <th>1</th>\n",
       "      <td>com.dmitriev.abooks</td>\n",
       "      <td>A-Books</td>\n",
       "      <td>https://apps.apple.com/us/app/a-books/id103157...</td>\n",
       "      <td>Book</td>\n",
       "      <td>4+</td>\n",
       "      <td>13135872.0</td>\n",
       "      <td>10.0</td>\n",
       "      <td>2015-08-31T19:31:32Z</td>\n",
       "      <td>2019-07-23T20:31:09Z</td>\n",
       "      <td>1.3</td>\n",
       "      <td>...</td>\n",
       "      <td>USD</td>\n",
       "      <td>True</td>\n",
       "      <td>1031572001</td>\n",
       "      <td>Roman Dmitriev</td>\n",
       "      <td>https://apps.apple.com/us/developer/roman-dmit...</td>\n",
       "      <td>NaN</td>\n",
       "      <td>5.0</td>\n",
       "      <td>1</td>\n",
       "      <td>5.0</td>\n",
       "      <td>1</td>\n",
       "    </tr>\n",
       "    <tr>\n",
       "      <th>2</th>\n",
       "      <td>no.terp.abooks</td>\n",
       "      <td>A-books</td>\n",
       "      <td>https://apps.apple.com/us/app/a-books/id145702...</td>\n",
       "      <td>Book</td>\n",
       "      <td>4+</td>\n",
       "      <td>21943296.0</td>\n",
       "      <td>9.0</td>\n",
       "      <td>2021-04-14T07:00:00Z</td>\n",
       "      <td>2021-05-30T21:08:54Z</td>\n",
       "      <td>1.3.1</td>\n",
       "      <td>...</td>\n",
       "      <td>USD</td>\n",
       "      <td>True</td>\n",
       "      <td>1457024163</td>\n",
       "      <td>Terp AS</td>\n",
       "      <td>https://apps.apple.com/us/developer/terp-as/id...</td>\n",
       "      <td>NaN</td>\n",
       "      <td>0.0</td>\n",
       "      <td>0</td>\n",
       "      <td>0.0</td>\n",
       "      <td>0</td>\n",
       "    </tr>\n",
       "    <tr>\n",
       "      <th>3</th>\n",
       "      <td>fr.antoinettefleur.Book1</td>\n",
       "      <td>A-F Book #1</td>\n",
       "      <td>https://apps.apple.com/us/app/a-f-book-1/id500...</td>\n",
       "      <td>Book</td>\n",
       "      <td>4+</td>\n",
       "      <td>81851392.0</td>\n",
       "      <td>8.0</td>\n",
       "      <td>2012-02-10T03:40:07Z</td>\n",
       "      <td>2019-10-29T12:40:37Z</td>\n",
       "      <td>1.2</td>\n",
       "      <td>...</td>\n",
       "      <td>USD</td>\n",
       "      <td>False</td>\n",
       "      <td>439568839</td>\n",
       "      <td>i-editeur.com</td>\n",
       "      <td>https://apps.apple.com/us/developer/i-editeur-...</td>\n",
       "      <td>NaN</td>\n",
       "      <td>0.0</td>\n",
       "      <td>0</td>\n",
       "      <td>0.0</td>\n",
       "      <td>0</td>\n",
       "    </tr>\n",
       "    <tr>\n",
       "      <th>4</th>\n",
       "      <td>com.imonstersoft.azdictionaryios</td>\n",
       "      <td>A-Z Synonyms Dictionary</td>\n",
       "      <td>https://apps.apple.com/us/app/a-z-synonyms-dic...</td>\n",
       "      <td>Reference</td>\n",
       "      <td>4+</td>\n",
       "      <td>64692224.0</td>\n",
       "      <td>9.0</td>\n",
       "      <td>2020-12-16T08:00:00Z</td>\n",
       "      <td>2020-12-18T21:36:11Z</td>\n",
       "      <td>1.0.1</td>\n",
       "      <td>...</td>\n",
       "      <td>USD</td>\n",
       "      <td>True</td>\n",
       "      <td>656731821</td>\n",
       "      <td>Ngov chiheang</td>\n",
       "      <td>https://apps.apple.com/us/developer/ngov-chihe...</td>\n",
       "      <td>http://imonstersoft.com</td>\n",
       "      <td>0.0</td>\n",
       "      <td>0</td>\n",
       "      <td>0.0</td>\n",
       "      <td>0</td>\n",
       "    </tr>\n",
       "  </tbody>\n",
       "</table>\n",
       "<p>5 rows × 21 columns</p>\n",
       "</div>"
      ],
      "text/plain": [
       "                             App_Id                 App_Name  \\\n",
       "0               com.hkbu.arc.apaper           A+ Paper Guide   \n",
       "1               com.dmitriev.abooks                  A-Books   \n",
       "2                    no.terp.abooks                  A-books   \n",
       "3          fr.antoinettefleur.Book1              A-F Book #1   \n",
       "4  com.imonstersoft.azdictionaryios  A-Z Synonyms Dictionary   \n",
       "\n",
       "                                        AppStore_Url Primary_Genre  \\\n",
       "0  https://apps.apple.com/us/app/a-paper-guide/id...     Education   \n",
       "1  https://apps.apple.com/us/app/a-books/id103157...          Book   \n",
       "2  https://apps.apple.com/us/app/a-books/id145702...          Book   \n",
       "3  https://apps.apple.com/us/app/a-f-book-1/id500...          Book   \n",
       "4  https://apps.apple.com/us/app/a-z-synonyms-dic...     Reference   \n",
       "\n",
       "  Content_Rating  Size_Bytes Required_IOS_Version              Released  \\\n",
       "0             4+  21993472.0                  8.0  2017-09-28T03:02:41Z   \n",
       "1             4+  13135872.0                 10.0  2015-08-31T19:31:32Z   \n",
       "2             4+  21943296.0                  9.0  2021-04-14T07:00:00Z   \n",
       "3             4+  81851392.0                  8.0  2012-02-10T03:40:07Z   \n",
       "4             4+  64692224.0                  9.0  2020-12-16T08:00:00Z   \n",
       "\n",
       "                Updated Version  ...  Currency   Free  DeveloperId  \\\n",
       "0  2018-12-21T21:30:36Z   1.1.2  ...       USD   True   1375410542   \n",
       "1  2019-07-23T20:31:09Z     1.3  ...       USD   True   1031572001   \n",
       "2  2021-05-30T21:08:54Z   1.3.1  ...       USD   True   1457024163   \n",
       "3  2019-10-29T12:40:37Z     1.2  ...       USD  False    439568839   \n",
       "4  2020-12-18T21:36:11Z   1.0.1  ...       USD   True    656731821   \n",
       "\n",
       "        Developer                                      Developer_Url  \\\n",
       "0        HKBU ARC  https://apps.apple.com/us/developer/hkbu-arc/i...   \n",
       "1  Roman Dmitriev  https://apps.apple.com/us/developer/roman-dmit...   \n",
       "2         Terp AS  https://apps.apple.com/us/developer/terp-as/id...   \n",
       "3   i-editeur.com  https://apps.apple.com/us/developer/i-editeur-...   \n",
       "4   Ngov chiheang  https://apps.apple.com/us/developer/ngov-chihe...   \n",
       "\n",
       "         Developer_Website Average_User_Rating  Reviews  \\\n",
       "0                      NaN                 0.0        0   \n",
       "1                      NaN                 5.0        1   \n",
       "2                      NaN                 0.0        0   \n",
       "3                      NaN                 0.0        0   \n",
       "4  http://imonstersoft.com                 0.0        0   \n",
       "\n",
       "   Current_Version_Score  Current_Version_Reviews  \n",
       "0                    0.0                        0  \n",
       "1                    5.0                        1  \n",
       "2                    0.0                        0  \n",
       "3                    0.0                        0  \n",
       "4                    0.0                        0  \n",
       "\n",
       "[5 rows x 21 columns]"
      ]
     },
     "execution_count": 3,
     "metadata": {},
     "output_type": "execute_result"
    }
   ],
   "source": [
    "df.head()"
   ]
  },
  {
   "cell_type": "code",
   "execution_count": 4,
   "id": "a1abafb4",
   "metadata": {
    "execution": {
     "iopub.execute_input": "2024-01-22T12:35:06.100501Z",
     "iopub.status.busy": "2024-01-22T12:35:06.100108Z",
     "iopub.status.idle": "2024-01-22T12:35:06.107621Z",
     "shell.execute_reply": "2024-01-22T12:35:06.106525Z"
    },
    "papermill": {
     "duration": 0.027624,
     "end_time": "2024-01-22T12:35:06.109892",
     "exception": false,
     "start_time": "2024-01-22T12:35:06.082268",
     "status": "completed"
    },
    "tags": []
   },
   "outputs": [
    {
     "data": {
      "text/plain": [
       "Index(['App_Id', 'App_Name', 'AppStore_Url', 'Primary_Genre', 'Content_Rating',\n",
       "       'Size_Bytes', 'Required_IOS_Version', 'Released', 'Updated', 'Version',\n",
       "       'Price', 'Currency', 'Free', 'DeveloperId', 'Developer',\n",
       "       'Developer_Url', 'Developer_Website', 'Average_User_Rating', 'Reviews',\n",
       "       'Current_Version_Score', 'Current_Version_Reviews'],\n",
       "      dtype='object')"
      ]
     },
     "execution_count": 4,
     "metadata": {},
     "output_type": "execute_result"
    }
   ],
   "source": [
    "df.columns"
   ]
  },
  {
   "cell_type": "code",
   "execution_count": 5,
   "id": "e89fff8c",
   "metadata": {
    "execution": {
     "iopub.execute_input": "2024-01-22T12:35:06.146257Z",
     "iopub.status.busy": "2024-01-22T12:35:06.145844Z",
     "iopub.status.idle": "2024-01-22T12:35:07.865424Z",
     "shell.execute_reply": "2024-01-22T12:35:07.864621Z"
    },
    "papermill": {
     "duration": 1.740599,
     "end_time": "2024-01-22T12:35:07.867954",
     "exception": false,
     "start_time": "2024-01-22T12:35:06.127355",
     "status": "completed"
    },
    "tags": []
   },
   "outputs": [
    {
     "name": "stdout",
     "output_type": "stream",
     "text": [
      "<class 'pandas.core.frame.DataFrame'>\n",
      "RangeIndex: 1230376 entries, 0 to 1230375\n",
      "Data columns (total 21 columns):\n",
      " #   Column                   Non-Null Count    Dtype  \n",
      "---  ------                   --------------    -----  \n",
      " 0   App_Id                   1230376 non-null  object \n",
      " 1   App_Name                 1230375 non-null  object \n",
      " 2   AppStore_Url             1230376 non-null  object \n",
      " 3   Primary_Genre            1230376 non-null  object \n",
      " 4   Content_Rating           1230376 non-null  object \n",
      " 5   Size_Bytes               1230152 non-null  float64\n",
      " 6   Required_IOS_Version     1230376 non-null  object \n",
      " 7   Released                 1230373 non-null  object \n",
      " 8   Updated                  1230376 non-null  object \n",
      " 9   Version                  1230376 non-null  object \n",
      " 10  Price                    1229886 non-null  float64\n",
      " 11  Currency                 1230376 non-null  object \n",
      " 12  Free                     1230376 non-null  bool   \n",
      " 13  DeveloperId              1230376 non-null  int64  \n",
      " 14  Developer                1230376 non-null  object \n",
      " 15  Developer_Url            1229267 non-null  object \n",
      " 16  Developer_Website        586388 non-null   object \n",
      " 17  Average_User_Rating      1230376 non-null  float64\n",
      " 18  Reviews                  1230376 non-null  int64  \n",
      " 19  Current_Version_Score    1230376 non-null  float64\n",
      " 20  Current_Version_Reviews  1230376 non-null  int64  \n",
      "dtypes: bool(1), float64(4), int64(3), object(13)\n",
      "memory usage: 188.9+ MB\n"
     ]
    }
   ],
   "source": [
    "df.info()"
   ]
  },
  {
   "cell_type": "code",
   "execution_count": 6,
   "id": "f1964d10",
   "metadata": {
    "execution": {
     "iopub.execute_input": "2024-01-22T12:35:07.904596Z",
     "iopub.status.busy": "2024-01-22T12:35:07.903356Z",
     "iopub.status.idle": "2024-01-22T12:35:08.280051Z",
     "shell.execute_reply": "2024-01-22T12:35:08.278890Z"
    },
    "papermill": {
     "duration": 0.397466,
     "end_time": "2024-01-22T12:35:08.282474",
     "exception": false,
     "start_time": "2024-01-22T12:35:07.885008",
     "status": "completed"
    },
    "tags": []
   },
   "outputs": [
    {
     "data": {
      "text/html": [
       "<div>\n",
       "<style scoped>\n",
       "    .dataframe tbody tr th:only-of-type {\n",
       "        vertical-align: middle;\n",
       "    }\n",
       "\n",
       "    .dataframe tbody tr th {\n",
       "        vertical-align: top;\n",
       "    }\n",
       "\n",
       "    .dataframe thead th {\n",
       "        text-align: right;\n",
       "    }\n",
       "</style>\n",
       "<table border=\"1\" class=\"dataframe\">\n",
       "  <thead>\n",
       "    <tr style=\"text-align: right;\">\n",
       "      <th></th>\n",
       "      <th>Size_Bytes</th>\n",
       "      <th>Price</th>\n",
       "      <th>DeveloperId</th>\n",
       "      <th>Average_User_Rating</th>\n",
       "      <th>Reviews</th>\n",
       "      <th>Current_Version_Score</th>\n",
       "      <th>Current_Version_Reviews</th>\n",
       "    </tr>\n",
       "  </thead>\n",
       "  <tbody>\n",
       "    <tr>\n",
       "      <th>count</th>\n",
       "      <td>1.230152e+06</td>\n",
       "      <td>1.229886e+06</td>\n",
       "      <td>1.230376e+06</td>\n",
       "      <td>1.230376e+06</td>\n",
       "      <td>1.230376e+06</td>\n",
       "      <td>1.230376e+06</td>\n",
       "      <td>1.230376e+06</td>\n",
       "    </tr>\n",
       "    <tr>\n",
       "      <th>mean</th>\n",
       "      <td>7.510857e+07</td>\n",
       "      <td>5.041264e-01</td>\n",
       "      <td>1.092869e+09</td>\n",
       "      <td>1.788387e+00</td>\n",
       "      <td>8.259478e+02</td>\n",
       "      <td>1.788387e+00</td>\n",
       "      <td>8.259478e+02</td>\n",
       "    </tr>\n",
       "    <tr>\n",
       "      <th>std</th>\n",
       "      <td>2.318726e+08</td>\n",
       "      <td>6.869674e+00</td>\n",
       "      <td>4.090897e+08</td>\n",
       "      <td>2.154105e+00</td>\n",
       "      <td>5.016051e+04</td>\n",
       "      <td>2.154105e+00</td>\n",
       "      <td>5.016051e+04</td>\n",
       "    </tr>\n",
       "    <tr>\n",
       "      <th>min</th>\n",
       "      <td>2.762800e+04</td>\n",
       "      <td>0.000000e+00</td>\n",
       "      <td>2.816565e+08</td>\n",
       "      <td>0.000000e+00</td>\n",
       "      <td>0.000000e+00</td>\n",
       "      <td>0.000000e+00</td>\n",
       "      <td>0.000000e+00</td>\n",
       "    </tr>\n",
       "    <tr>\n",
       "      <th>25%</th>\n",
       "      <td>2.041344e+07</td>\n",
       "      <td>0.000000e+00</td>\n",
       "      <td>7.381109e+08</td>\n",
       "      <td>0.000000e+00</td>\n",
       "      <td>0.000000e+00</td>\n",
       "      <td>0.000000e+00</td>\n",
       "      <td>0.000000e+00</td>\n",
       "    </tr>\n",
       "    <tr>\n",
       "      <th>50%</th>\n",
       "      <td>4.333158e+07</td>\n",
       "      <td>0.000000e+00</td>\n",
       "      <td>1.179711e+09</td>\n",
       "      <td>0.000000e+00</td>\n",
       "      <td>0.000000e+00</td>\n",
       "      <td>0.000000e+00</td>\n",
       "      <td>0.000000e+00</td>\n",
       "    </tr>\n",
       "    <tr>\n",
       "      <th>75%</th>\n",
       "      <td>8.365466e+07</td>\n",
       "      <td>0.000000e+00</td>\n",
       "      <td>1.471960e+09</td>\n",
       "      <td>4.333330e+00</td>\n",
       "      <td>3.000000e+00</td>\n",
       "      <td>4.333330e+00</td>\n",
       "      <td>3.000000e+00</td>\n",
       "    </tr>\n",
       "    <tr>\n",
       "      <th>max</th>\n",
       "      <td>7.677945e+10</td>\n",
       "      <td>9.999900e+02</td>\n",
       "      <td>1.590233e+09</td>\n",
       "      <td>5.000000e+00</td>\n",
       "      <td>2.268533e+07</td>\n",
       "      <td>5.000000e+00</td>\n",
       "      <td>2.268533e+07</td>\n",
       "    </tr>\n",
       "  </tbody>\n",
       "</table>\n",
       "</div>"
      ],
      "text/plain": [
       "         Size_Bytes         Price   DeveloperId  Average_User_Rating  \\\n",
       "count  1.230152e+06  1.229886e+06  1.230376e+06         1.230376e+06   \n",
       "mean   7.510857e+07  5.041264e-01  1.092869e+09         1.788387e+00   \n",
       "std    2.318726e+08  6.869674e+00  4.090897e+08         2.154105e+00   \n",
       "min    2.762800e+04  0.000000e+00  2.816565e+08         0.000000e+00   \n",
       "25%    2.041344e+07  0.000000e+00  7.381109e+08         0.000000e+00   \n",
       "50%    4.333158e+07  0.000000e+00  1.179711e+09         0.000000e+00   \n",
       "75%    8.365466e+07  0.000000e+00  1.471960e+09         4.333330e+00   \n",
       "max    7.677945e+10  9.999900e+02  1.590233e+09         5.000000e+00   \n",
       "\n",
       "            Reviews  Current_Version_Score  Current_Version_Reviews  \n",
       "count  1.230376e+06           1.230376e+06             1.230376e+06  \n",
       "mean   8.259478e+02           1.788387e+00             8.259478e+02  \n",
       "std    5.016051e+04           2.154105e+00             5.016051e+04  \n",
       "min    0.000000e+00           0.000000e+00             0.000000e+00  \n",
       "25%    0.000000e+00           0.000000e+00             0.000000e+00  \n",
       "50%    0.000000e+00           0.000000e+00             0.000000e+00  \n",
       "75%    3.000000e+00           4.333330e+00             3.000000e+00  \n",
       "max    2.268533e+07           5.000000e+00             2.268533e+07  "
      ]
     },
     "execution_count": 6,
     "metadata": {},
     "output_type": "execute_result"
    }
   ],
   "source": [
    "df.describe()"
   ]
  },
  {
   "cell_type": "code",
   "execution_count": 7,
   "id": "4877327a",
   "metadata": {
    "execution": {
     "iopub.execute_input": "2024-01-22T12:35:08.319855Z",
     "iopub.status.busy": "2024-01-22T12:35:08.319425Z",
     "iopub.status.idle": "2024-01-22T12:35:09.960878Z",
     "shell.execute_reply": "2024-01-22T12:35:09.959673Z"
    },
    "papermill": {
     "duration": 1.662931,
     "end_time": "2024-01-22T12:35:09.963507",
     "exception": false,
     "start_time": "2024-01-22T12:35:08.300576",
     "status": "completed"
    },
    "tags": []
   },
   "outputs": [
    {
     "data": {
      "text/plain": [
       "Developer_Website          643988\n",
       "Developer_Url                1109\n",
       "Price                         490\n",
       "Size_Bytes                    224\n",
       "Released                        3\n",
       "App_Name                        1\n",
       "Free                            0\n",
       "Current_Version_Score           0\n",
       "Reviews                         0\n",
       "Average_User_Rating             0\n",
       "Developer                       0\n",
       "DeveloperId                     0\n",
       "App_Id                          0\n",
       "Currency                        0\n",
       "Version                         0\n",
       "Updated                         0\n",
       "Required_IOS_Version            0\n",
       "Content_Rating                  0\n",
       "Primary_Genre                   0\n",
       "AppStore_Url                    0\n",
       "Current_Version_Reviews         0\n",
       "dtype: int64"
      ]
     },
     "execution_count": 7,
     "metadata": {},
     "output_type": "execute_result"
    }
   ],
   "source": [
    "df.isnull().sum().sort_values(ascending = False)"
   ]
  },
  {
   "cell_type": "code",
   "execution_count": 8,
   "id": "749e3b18",
   "metadata": {
    "execution": {
     "iopub.execute_input": "2024-01-22T12:35:10.001193Z",
     "iopub.status.busy": "2024-01-22T12:35:10.000361Z",
     "iopub.status.idle": "2024-01-22T12:35:47.223681Z",
     "shell.execute_reply": "2024-01-22T12:35:47.222534Z"
    },
    "papermill": {
     "duration": 37.263583,
     "end_time": "2024-01-22T12:35:47.245086",
     "exception": false,
     "start_time": "2024-01-22T12:35:09.981503",
     "status": "completed"
    },
    "tags": []
   },
   "outputs": [
    {
     "data": {
      "text/plain": [
       "<Axes: >"
      ]
     },
     "execution_count": 8,
     "metadata": {},
     "output_type": "execute_result"
    },
    {
     "data": {
      "image/png": "[encoded data removed]",
      "text/plain": [
       "<Figure size 1200x600 with 1 Axes>"
      ]
     },
     "metadata": {},
     "output_type": "display_data"
    }
   ],
   "source": [
    "plt.figure(figsize = (12,6))\n",
    "sns.heatmap(df.isnull(), yticklabels=False, cbar=False, cmap='viridis')"
   ]
  },
  {
   "cell_type": "code",
   "execution_count": 9,
   "id": "96d99bee",
   "metadata": {
    "execution": {
     "iopub.execute_input": "2024-01-22T12:35:47.284326Z",
     "iopub.status.busy": "2024-01-22T12:35:47.283669Z",
     "iopub.status.idle": "2024-01-22T12:35:48.893611Z",
     "shell.execute_reply": "2024-01-22T12:35:48.892260Z"
    },
    "papermill": {
     "duration": 1.632616,
     "end_time": "2024-01-22T12:35:48.896183",
     "exception": false,
     "start_time": "2024-01-22T12:35:47.263567",
     "status": "completed"
    },
    "tags": []
   },
   "outputs": [
    {
     "name": "stdout",
     "output_type": "stream",
     "text": [
      "App_Id                      0.000000\n",
      "App_Name                    0.000081\n",
      "AppStore_Url                0.000000\n",
      "Primary_Genre               0.000000\n",
      "Content_Rating              0.000000\n",
      "Size_Bytes                  0.018206\n",
      "Required_IOS_Version        0.000000\n",
      "Released                    0.000244\n",
      "Updated                     0.000000\n",
      "Version                     0.000000\n",
      "Price                       0.039825\n",
      "Currency                    0.000000\n",
      "Free                        0.000000\n",
      "DeveloperId                 0.000000\n",
      "Developer                   0.000000\n",
      "Developer_Url               0.090135\n",
      "Developer_Website          52.340748\n",
      "Average_User_Rating         0.000000\n",
      "Reviews                     0.000000\n",
      "Current_Version_Score       0.000000\n",
      "Current_Version_Reviews     0.000000\n",
      "dtype: float64\n"
     ]
    }
   ],
   "source": [
    "null_percentage = (df.isnull().sum()/len(df)*100)\n",
    "print(null_percentage)"
   ]
  },
  {
   "cell_type": "code",
   "execution_count": 10,
   "id": "caa1129d",
   "metadata": {
    "execution": {
     "iopub.execute_input": "2024-01-22T12:35:48.935180Z",
     "iopub.status.busy": "2024-01-22T12:35:48.934761Z",
     "iopub.status.idle": "2024-01-22T12:35:48.944637Z",
     "shell.execute_reply": "2024-01-22T12:35:48.943384Z"
    },
    "papermill": {
     "duration": 0.032159,
     "end_time": "2024-01-22T12:35:48.946922",
     "exception": false,
     "start_time": "2024-01-22T12:35:48.914763",
     "status": "completed"
    },
    "tags": []
   },
   "outputs": [
    {
     "data": {
      "text/plain": [
       "Developer_Website          52.340748\n",
       "Developer_Url               0.090135\n",
       "Price                       0.039825\n",
       "Size_Bytes                  0.018206\n",
       "Released                    0.000244\n",
       "App_Name                    0.000081\n",
       "Free                        0.000000\n",
       "Current_Version_Score       0.000000\n",
       "Reviews                     0.000000\n",
       "Average_User_Rating         0.000000\n",
       "Developer                   0.000000\n",
       "DeveloperId                 0.000000\n",
       "App_Id                      0.000000\n",
       "Currency                    0.000000\n",
       "Version                     0.000000\n",
       "Updated                     0.000000\n",
       "Required_IOS_Version        0.000000\n",
       "Content_Rating              0.000000\n",
       "Primary_Genre               0.000000\n",
       "AppStore_Url                0.000000\n",
       "Current_Version_Reviews     0.000000\n",
       "dtype: float64"
      ]
     },
     "execution_count": 10,
     "metadata": {},
     "output_type": "execute_result"
    }
   ],
   "source": [
    "null_percentage.sort_values(ascending = False)"
   ]
  },
  {
   "cell_type": "code",
   "execution_count": 11,
   "id": "8494124a",
   "metadata": {
    "execution": {
     "iopub.execute_input": "2024-01-22T12:35:49.061410Z",
     "iopub.status.busy": "2024-01-22T12:35:49.060808Z",
     "iopub.status.idle": "2024-01-22T12:35:49.531634Z",
     "shell.execute_reply": "2024-01-22T12:35:49.530474Z"
    },
    "papermill": {
     "duration": 0.499773,
     "end_time": "2024-01-22T12:35:49.534720",
     "exception": false,
     "start_time": "2024-01-22T12:35:49.034947",
     "status": "completed"
    },
    "tags": []
   },
   "outputs": [
    {
     "data": {
      "text/plain": [
       "<Axes: >"
      ]
     },
     "execution_count": 11,
     "metadata": {},
     "output_type": "execute_result"
    },
    {
     "data": {
      "image/png": "[encoded data removed]",
      "text/plain": [
       "<Figure size 1200x600 with 1 Axes>"
      ]
     },
     "metadata": {},
     "output_type": "display_data"
    }
   ],
   "source": [
    "plt.figure(figsize = (12,6))\n",
    "null_percentage.plot(kind = 'bar')"
   ]
  },
  {
   "cell_type": "code",
   "execution_count": 12,
   "id": "4c2be11c",
   "metadata": {
    "execution": {
     "iopub.execute_input": "2024-01-22T12:35:49.577012Z",
     "iopub.status.busy": "2024-01-22T12:35:49.575778Z",
     "iopub.status.idle": "2024-01-22T12:35:51.336838Z",
     "shell.execute_reply": "2024-01-22T12:35:51.335754Z"
    },
    "papermill": {
     "duration": 1.785488,
     "end_time": "2024-01-22T12:35:51.340066",
     "exception": false,
     "start_time": "2024-01-22T12:35:49.554578",
     "status": "completed"
    },
    "tags": []
   },
   "outputs": [
    {
     "name": "stdout",
     "output_type": "stream",
     "text": [
      "<class 'pandas.core.frame.DataFrame'>\n",
      "RangeIndex: 1230376 entries, 0 to 1230375\n",
      "Data columns (total 20 columns):\n",
      " #   Column                   Non-Null Count    Dtype  \n",
      "---  ------                   --------------    -----  \n",
      " 0   App_Id                   1230376 non-null  object \n",
      " 1   App_Name                 1230375 non-null  object \n",
      " 2   AppStore_Url             1230376 non-null  object \n",
      " 3   Primary_Genre            1230376 non-null  object \n",
      " 4   Content_Rating           1230376 non-null  object \n",
      " 5   Size_Bytes               1230152 non-null  float64\n",
      " 6   Required_IOS_Version     1230376 non-null  object \n",
      " 7   Released                 1230373 non-null  object \n",
      " 8   Updated                  1230376 non-null  object \n",
      " 9   Version                  1230376 non-null  object \n",
      " 10  Price                    1229886 non-null  float64\n",
      " 11  Currency                 1230376 non-null  object \n",
      " 12  Free                     1230376 non-null  bool   \n",
      " 13  DeveloperId              1230376 non-null  int64  \n",
      " 14  Developer                1230376 non-null  object \n",
      " 15  Developer_Url            1229267 non-null  object \n",
      " 16  Average_User_Rating      1230376 non-null  float64\n",
      " 17  Reviews                  1230376 non-null  int64  \n",
      " 18  Current_Version_Score    1230376 non-null  float64\n",
      " 19  Current_Version_Reviews  1230376 non-null  int64  \n",
      "dtypes: bool(1), float64(4), int64(3), object(12)\n",
      "memory usage: 179.5+ MB\n"
     ]
    }
   ],
   "source": [
    "df.drop(columns = 'Developer_Website',axis = 1, inplace = True)\n",
    "df.info()"
   ]
  },
  {
   "cell_type": "code",
   "execution_count": 13,
   "id": "438a0764",
   "metadata": {
    "execution": {
     "iopub.execute_input": "2024-01-22T12:35:51.382094Z",
     "iopub.status.busy": "2024-01-22T12:35:51.381647Z",
     "iopub.status.idle": "2024-01-22T12:35:52.936777Z",
     "shell.execute_reply": "2024-01-22T12:35:52.935742Z"
    },
    "papermill": {
     "duration": 1.578991,
     "end_time": "2024-01-22T12:35:52.939266",
     "exception": false,
     "start_time": "2024-01-22T12:35:51.360275",
     "status": "completed"
    },
    "tags": []
   },
   "outputs": [
    {
     "data": {
      "text/plain": [
       "Developer_Url              1109\n",
       "Released                      3\n",
       "App_Name                      1\n",
       "App_Id                        0\n",
       "Currency                      0\n",
       "Current_Version_Score         0\n",
       "Reviews                       0\n",
       "Average_User_Rating           0\n",
       "Developer                     0\n",
       "DeveloperId                   0\n",
       "Free                          0\n",
       "Price                         0\n",
       "Version                       0\n",
       "Updated                       0\n",
       "Required_IOS_Version          0\n",
       "Size_Bytes                    0\n",
       "Content_Rating                0\n",
       "Primary_Genre                 0\n",
       "AppStore_Url                  0\n",
       "Current_Version_Reviews       0\n",
       "dtype: int64"
      ]
     },
     "execution_count": 13,
     "metadata": {},
     "output_type": "execute_result"
    }
   ],
   "source": [
    "df['Price'].fillna(df['Price'].mean(),inplace=True)\n",
    "df['Size_Bytes'].fillna(df['Size_Bytes'].mean(),inplace = True)\n",
    "df.isnull().sum().sort_values(ascending=False)"
   ]
  },
  {
   "cell_type": "code",
   "execution_count": 14,
   "id": "ab031a50",
   "metadata": {
    "execution": {
     "iopub.execute_input": "2024-01-22T12:35:52.983734Z",
     "iopub.status.busy": "2024-01-22T12:35:52.983290Z",
     "iopub.status.idle": "2024-01-22T12:35:54.588160Z",
     "shell.execute_reply": "2024-01-22T12:35:54.586973Z"
    },
    "papermill": {
     "duration": 1.630821,
     "end_time": "2024-01-22T12:35:54.591071",
     "exception": false,
     "start_time": "2024-01-22T12:35:52.960250",
     "status": "completed"
    },
    "tags": []
   },
   "outputs": [],
   "source": [
    "df.dropna(subset=['Developer_Url'],inplace=True)\n",
    "df.dropna(subset=['Released'],inplace=True)\n",
    "df.dropna(subset=['App_Name'],inplace=True)"
   ]
  },
  {
   "cell_type": "code",
   "execution_count": 15,
   "id": "41f952d5",
   "metadata": {
    "execution": {
     "iopub.execute_input": "2024-01-22T12:35:54.633225Z",
     "iopub.status.busy": "2024-01-22T12:35:54.632860Z",
     "iopub.status.idle": "2024-01-22T12:35:56.155501Z",
     "shell.execute_reply": "2024-01-22T12:35:56.154347Z"
    },
    "papermill": {
     "duration": 1.546842,
     "end_time": "2024-01-22T12:35:56.158243",
     "exception": false,
     "start_time": "2024-01-22T12:35:54.611401",
     "status": "completed"
    },
    "tags": []
   },
   "outputs": [
    {
     "data": {
      "text/plain": [
       "App_Id                     0\n",
       "App_Name                   0\n",
       "AppStore_Url               0\n",
       "Primary_Genre              0\n",
       "Content_Rating             0\n",
       "Size_Bytes                 0\n",
       "Required_IOS_Version       0\n",
       "Released                   0\n",
       "Updated                    0\n",
       "Version                    0\n",
       "Price                      0\n",
       "Currency                   0\n",
       "Free                       0\n",
       "DeveloperId                0\n",
       "Developer                  0\n",
       "Developer_Url              0\n",
       "Average_User_Rating        0\n",
       "Reviews                    0\n",
       "Current_Version_Score      0\n",
       "Current_Version_Reviews    0\n",
       "dtype: int64"
      ]
     },
     "execution_count": 15,
     "metadata": {},
     "output_type": "execute_result"
    }
   ],
   "source": [
    "df.isnull().sum()"
   ]
  },
  {
   "cell_type": "code",
   "execution_count": 16,
   "id": "dfd40825",
   "metadata": {
    "execution": {
     "iopub.execute_input": "2024-01-22T12:35:56.200747Z",
     "iopub.status.busy": "2024-01-22T12:35:56.200309Z",
     "iopub.status.idle": "2024-01-22T12:36:00.397054Z",
     "shell.execute_reply": "2024-01-22T12:36:00.395801Z"
    },
    "papermill": {
     "duration": 4.220847,
     "end_time": "2024-01-22T12:36:00.399486",
     "exception": false,
     "start_time": "2024-01-22T12:35:56.178639",
     "status": "completed"
    },
    "tags": []
   },
   "outputs": [
    {
     "data": {
      "text/plain": [
       "0"
      ]
     },
     "execution_count": 16,
     "metadata": {},
     "output_type": "execute_result"
    }
   ],
   "source": [
    "df.duplicated().sum()"
   ]
  },
  {
   "cell_type": "code",
   "execution_count": 17,
   "id": "e147b0d6",
   "metadata": {
    "execution": {
     "iopub.execute_input": "2024-01-22T12:36:00.442962Z",
     "iopub.status.busy": "2024-01-22T12:36:00.442508Z",
     "iopub.status.idle": "2024-01-22T12:36:04.593412Z",
     "shell.execute_reply": "2024-01-22T12:36:04.592493Z"
    },
    "papermill": {
     "duration": 4.175463,
     "end_time": "2024-01-22T12:36:04.595698",
     "exception": false,
     "start_time": "2024-01-22T12:36:00.420235",
     "status": "completed"
    },
    "tags": []
   },
   "outputs": [
    {
     "data": {
      "text/plain": [
       "False"
      ]
     },
     "execution_count": 17,
     "metadata": {},
     "output_type": "execute_result"
    }
   ],
   "source": [
    "any_duplicates = df.duplicated(subset=['App_Id', 'App_Name', 'AppStore_Url', 'Primary_Genre', 'Content_Rating',\n",
    "       'Size_Bytes', 'Required_IOS_Version', 'Released', 'Updated', 'Version',\n",
    "       'Price', 'Currency', 'Free', 'DeveloperId', 'Developer',\n",
    "       'Developer_Url', 'Average_User_Rating', 'Reviews',\n",
    "       'Current_Version_Score', 'Current_Version_Reviews']).any()\n",
    "any_duplicates"
   ]
  },
  {
   "cell_type": "code",
   "execution_count": 18,
   "id": "94451163",
   "metadata": {
    "execution": {
     "iopub.execute_input": "2024-01-22T12:36:04.639427Z",
     "iopub.status.busy": "2024-01-22T12:36:04.639017Z",
     "iopub.status.idle": "2024-01-22T12:36:04.894784Z",
     "shell.execute_reply": "2024-01-22T12:36:04.893645Z"
    },
    "papermill": {
     "duration": 0.280822,
     "end_time": "2024-01-22T12:36:04.897626",
     "exception": false,
     "start_time": "2024-01-22T12:36:04.616804",
     "status": "completed"
    },
    "tags": []
   },
   "outputs": [
    {
     "data": {
      "text/plain": [
       "6850"
      ]
     },
     "execution_count": 18,
     "metadata": {},
     "output_type": "execute_result"
    }
   ],
   "source": [
    "df['App_Name'].duplicated().sum()"
   ]
  },
  {
   "cell_type": "code",
   "execution_count": 19,
   "id": "cab10049",
   "metadata": {
    "execution": {
     "iopub.execute_input": "2024-01-22T12:36:04.941780Z",
     "iopub.status.busy": "2024-01-22T12:36:04.941340Z",
     "iopub.status.idle": "2024-01-22T12:36:06.400781Z",
     "shell.execute_reply": "2024-01-22T12:36:06.399885Z"
    },
    "papermill": {
     "duration": 1.484023,
     "end_time": "2024-01-22T12:36:06.403123",
     "exception": false,
     "start_time": "2024-01-22T12:36:04.919100",
     "status": "completed"
    },
    "tags": []
   },
   "outputs": [
    {
     "data": {
      "text/plain": [
       "App_Name\n",
       "Vanguard              6\n",
       "Linker                5\n",
       "Bloom                 5\n",
       "Currency Converter    4\n",
       "Awaken                4\n",
       "                     ..\n",
       "TwoFactor             1\n",
       "TWOTOO                1\n",
       "TwoWayStreaming       1\n",
       "TWSpeed Telecom       1\n",
       "Sổ Điểm Thông Minh    1\n",
       "Name: count, Length: 1222413, dtype: int64"
      ]
     },
     "execution_count": 19,
     "metadata": {},
     "output_type": "execute_result"
    }
   ],
   "source": [
    "df['App_Name'].value_counts().sort_values(ascending = False)"
   ]
  },
  {
   "cell_type": "code",
   "execution_count": 20,
   "id": "f2403e1c",
   "metadata": {
    "execution": {
     "iopub.execute_input": "2024-01-22T12:36:06.448910Z",
     "iopub.status.busy": "2024-01-22T12:36:06.447701Z",
     "iopub.status.idle": "2024-01-22T12:36:06.675721Z",
     "shell.execute_reply": "2024-01-22T12:36:06.674762Z"
    },
    "papermill": {
     "duration": 0.253309,
     "end_time": "2024-01-22T12:36:06.678468",
     "exception": false,
     "start_time": "2024-01-22T12:36:06.425159",
     "status": "completed"
    },
    "tags": []
   },
   "outputs": [
    {
     "data": {
      "text/html": [
       "<div>\n",
       "<style scoped>\n",
       "    .dataframe tbody tr th:only-of-type {\n",
       "        vertical-align: middle;\n",
       "    }\n",
       "\n",
       "    .dataframe tbody tr th {\n",
       "        vertical-align: top;\n",
       "    }\n",
       "\n",
       "    .dataframe thead th {\n",
       "        text-align: right;\n",
       "    }\n",
       "</style>\n",
       "<table border=\"1\" class=\"dataframe\">\n",
       "  <thead>\n",
       "    <tr style=\"text-align: right;\">\n",
       "      <th></th>\n",
       "      <th>App_Id</th>\n",
       "      <th>App_Name</th>\n",
       "      <th>AppStore_Url</th>\n",
       "      <th>Primary_Genre</th>\n",
       "      <th>Content_Rating</th>\n",
       "      <th>Size_Bytes</th>\n",
       "      <th>Required_IOS_Version</th>\n",
       "      <th>Released</th>\n",
       "      <th>Updated</th>\n",
       "      <th>Version</th>\n",
       "      <th>Price</th>\n",
       "      <th>Currency</th>\n",
       "      <th>Free</th>\n",
       "      <th>DeveloperId</th>\n",
       "      <th>Developer</th>\n",
       "      <th>Developer_Url</th>\n",
       "      <th>Average_User_Rating</th>\n",
       "      <th>Reviews</th>\n",
       "      <th>Current_Version_Score</th>\n",
       "      <th>Current_Version_Reviews</th>\n",
       "    </tr>\n",
       "  </thead>\n",
       "  <tbody>\n",
       "    <tr>\n",
       "      <th>478488</th>\n",
       "      <td>com.vanguard.app</td>\n",
       "      <td>Vanguard</td>\n",
       "      <td>https://apps.apple.com/us/app/vanguard/id33518...</td>\n",
       "      <td>Finance</td>\n",
       "      <td>4+</td>\n",
       "      <td>160800768.0</td>\n",
       "      <td>10.0</td>\n",
       "      <td>2009-10-24T19:14:54Z</td>\n",
       "      <td>2021-08-26T19:55:20Z</td>\n",
       "      <td>11.14</td>\n",
       "      <td>0.0</td>\n",
       "      <td>USD</td>\n",
       "      <td>True</td>\n",
       "      <td>335186212</td>\n",
       "      <td>The Vanguard Group, Inc.</td>\n",
       "      <td>https://apps.apple.com/us/developer/the-vangua...</td>\n",
       "      <td>4.73977</td>\n",
       "      <td>167472</td>\n",
       "      <td>4.73977</td>\n",
       "      <td>167472</td>\n",
       "    </tr>\n",
       "    <tr>\n",
       "      <th>624553</th>\n",
       "      <td>com.omr.vngu</td>\n",
       "      <td>Vanguard</td>\n",
       "      <td>https://apps.apple.com/us/app/vanguard/id15822...</td>\n",
       "      <td>Games</td>\n",
       "      <td>4+</td>\n",
       "      <td>191240192.0</td>\n",
       "      <td>10.0</td>\n",
       "      <td>2021-08-27T07:00:00Z</td>\n",
       "      <td>2021-08-27T12:16:53Z</td>\n",
       "      <td>1.0</td>\n",
       "      <td>0.0</td>\n",
       "      <td>USD</td>\n",
       "      <td>True</td>\n",
       "      <td>1582197355</td>\n",
       "      <td>omar naser</td>\n",
       "      <td>https://apps.apple.com/us/developer/omar-naser...</td>\n",
       "      <td>3.00000</td>\n",
       "      <td>2</td>\n",
       "      <td>3.00000</td>\n",
       "      <td>2</td>\n",
       "    </tr>\n",
       "    <tr>\n",
       "      <th>871735</th>\n",
       "      <td>br.com.vanguardhome</td>\n",
       "      <td>Vanguard</td>\n",
       "      <td>https://apps.apple.com/us/app/vanguard/id14660...</td>\n",
       "      <td>Lifestyle</td>\n",
       "      <td>4+</td>\n",
       "      <td>87821312.0</td>\n",
       "      <td>9.0</td>\n",
       "      <td>2020-03-25T07:00:00Z</td>\n",
       "      <td>2021-10-05T23:12:01Z</td>\n",
       "      <td>1.1.10</td>\n",
       "      <td>0.0</td>\n",
       "      <td>USD</td>\n",
       "      <td>True</td>\n",
       "      <td>1459748843</td>\n",
       "      <td>Vanguard Home Empreendimentos Imobiliarios LTDA</td>\n",
       "      <td>https://apps.apple.com/us/developer/vanguard-h...</td>\n",
       "      <td>0.00000</td>\n",
       "      <td>0</td>\n",
       "      <td>0.00000</td>\n",
       "      <td>0</td>\n",
       "    </tr>\n",
       "    <tr>\n",
       "      <th>1024185</th>\n",
       "      <td>com.proptex.vanguard.barcelona</td>\n",
       "      <td>Vanguard</td>\n",
       "      <td>https://apps.apple.com/us/app/vanguard/id15690...</td>\n",
       "      <td>Productivity</td>\n",
       "      <td>17+</td>\n",
       "      <td>35228672.0</td>\n",
       "      <td>13.0</td>\n",
       "      <td>2021-06-11T07:00:00Z</td>\n",
       "      <td>2021-09-05T08:02:33Z</td>\n",
       "      <td>1.0.11</td>\n",
       "      <td>0.0</td>\n",
       "      <td>USD</td>\n",
       "      <td>True</td>\n",
       "      <td>1569057203</td>\n",
       "      <td>3k CO-LIVING $ ACCOMODATION</td>\n",
       "      <td>https://apps.apple.com/us/developer/3k-co-livi...</td>\n",
       "      <td>0.00000</td>\n",
       "      <td>0</td>\n",
       "      <td>0.00000</td>\n",
       "      <td>0</td>\n",
       "    </tr>\n",
       "    <tr>\n",
       "      <th>1066082</th>\n",
       "      <td>com.partnernogueiraalliance1.Vanguard1</td>\n",
       "      <td>Vanguard</td>\n",
       "      <td>https://apps.apple.com/us/app/vanguard/id14412...</td>\n",
       "      <td>Reference</td>\n",
       "      <td>4+</td>\n",
       "      <td>24201216.0</td>\n",
       "      <td>12.0</td>\n",
       "      <td>2018-11-13T01:31:37Z</td>\n",
       "      <td>2021-03-24T12:38:41Z</td>\n",
       "      <td>1.1.2</td>\n",
       "      <td>0.0</td>\n",
       "      <td>USD</td>\n",
       "      <td>True</td>\n",
       "      <td>1441217235</td>\n",
       "      <td>TONANDEL PTY LTD</td>\n",
       "      <td>https://apps.apple.com/us/developer/tonandel-p...</td>\n",
       "      <td>0.00000</td>\n",
       "      <td>0</td>\n",
       "      <td>0.00000</td>\n",
       "      <td>0</td>\n",
       "    </tr>\n",
       "    <tr>\n",
       "      <th>1094792</th>\n",
       "      <td>com.justbrands.highstreet.vanguard.ipad</td>\n",
       "      <td>Vanguard</td>\n",
       "      <td>https://apps.apple.com/us/app/vanguard/id91943...</td>\n",
       "      <td>Shopping</td>\n",
       "      <td>4+</td>\n",
       "      <td>68751360.0</td>\n",
       "      <td>13.0</td>\n",
       "      <td>2014-09-28T16:38:41Z</td>\n",
       "      <td>2021-07-26T09:36:18Z</td>\n",
       "      <td>2.114.14</td>\n",
       "      <td>0.0</td>\n",
       "      <td>USD</td>\n",
       "      <td>True</td>\n",
       "      <td>849091402</td>\n",
       "      <td>Just Brands B.V.</td>\n",
       "      <td>https://apps.apple.com/us/developer/just-brand...</td>\n",
       "      <td>5.00000</td>\n",
       "      <td>1</td>\n",
       "      <td>5.00000</td>\n",
       "      <td>1</td>\n",
       "    </tr>\n",
       "  </tbody>\n",
       "</table>\n",
       "</div>"
      ],
      "text/plain": [
       "                                          App_Id  App_Name  \\\n",
       "478488                          com.vanguard.app  Vanguard   \n",
       "624553                              com.omr.vngu  Vanguard   \n",
       "871735                       br.com.vanguardhome  Vanguard   \n",
       "1024185           com.proptex.vanguard.barcelona  Vanguard   \n",
       "1066082   com.partnernogueiraalliance1.Vanguard1  Vanguard   \n",
       "1094792  com.justbrands.highstreet.vanguard.ipad  Vanguard   \n",
       "\n",
       "                                              AppStore_Url Primary_Genre  \\\n",
       "478488   https://apps.apple.com/us/app/vanguard/id33518...       Finance   \n",
       "624553   https://apps.apple.com/us/app/vanguard/id15822...         Games   \n",
       "871735   https://apps.apple.com/us/app/vanguard/id14660...     Lifestyle   \n",
       "1024185  https://apps.apple.com/us/app/vanguard/id15690...  Productivity   \n",
       "1066082  https://apps.apple.com/us/app/vanguard/id14412...     Reference   \n",
       "1094792  https://apps.apple.com/us/app/vanguard/id91943...      Shopping   \n",
       "\n",
       "        Content_Rating   Size_Bytes Required_IOS_Version  \\\n",
       "478488              4+  160800768.0                 10.0   \n",
       "624553              4+  191240192.0                 10.0   \n",
       "871735              4+   87821312.0                  9.0   \n",
       "1024185            17+   35228672.0                 13.0   \n",
       "1066082             4+   24201216.0                 12.0   \n",
       "1094792             4+   68751360.0                 13.0   \n",
       "\n",
       "                     Released               Updated   Version  Price Currency  \\\n",
       "478488   2009-10-24T19:14:54Z  2021-08-26T19:55:20Z     11.14    0.0      USD   \n",
       "624553   2021-08-27T07:00:00Z  2021-08-27T12:16:53Z       1.0    0.0      USD   \n",
       "871735   2020-03-25T07:00:00Z  2021-10-05T23:12:01Z    1.1.10    0.0      USD   \n",
       "1024185  2021-06-11T07:00:00Z  2021-09-05T08:02:33Z    1.0.11    0.0      USD   \n",
       "1066082  2018-11-13T01:31:37Z  2021-03-24T12:38:41Z     1.1.2    0.0      USD   \n",
       "1094792  2014-09-28T16:38:41Z  2021-07-26T09:36:18Z  2.114.14    0.0      USD   \n",
       "\n",
       "         Free  DeveloperId                                        Developer  \\\n",
       "478488   True    335186212                         The Vanguard Group, Inc.   \n",
       "624553   True   1582197355                                       omar naser   \n",
       "871735   True   1459748843  Vanguard Home Empreendimentos Imobiliarios LTDA   \n",
       "1024185  True   1569057203                      3k CO-LIVING $ ACCOMODATION   \n",
       "1066082  True   1441217235                                 TONANDEL PTY LTD   \n",
       "1094792  True    849091402                                 Just Brands B.V.   \n",
       "\n",
       "                                             Developer_Url  \\\n",
       "478488   https://apps.apple.com/us/developer/the-vangua...   \n",
       "624553   https://apps.apple.com/us/developer/omar-naser...   \n",
       "871735   https://apps.apple.com/us/developer/vanguard-h...   \n",
       "1024185  https://apps.apple.com/us/developer/3k-co-livi...   \n",
       "1066082  https://apps.apple.com/us/developer/tonandel-p...   \n",
       "1094792  https://apps.apple.com/us/developer/just-brand...   \n",
       "\n",
       "         Average_User_Rating  Reviews  Current_Version_Score  \\\n",
       "478488               4.73977   167472                4.73977   \n",
       "624553               3.00000        2                3.00000   \n",
       "871735               0.00000        0                0.00000   \n",
       "1024185              0.00000        0                0.00000   \n",
       "1066082              0.00000        0                0.00000   \n",
       "1094792              5.00000        1                5.00000   \n",
       "\n",
       "         Current_Version_Reviews  \n",
       "478488                    167472  \n",
       "624553                         2  \n",
       "871735                         0  \n",
       "1024185                        0  \n",
       "1066082                        0  \n",
       "1094792                        1  "
      ]
     },
     "execution_count": 20,
     "metadata": {},
     "output_type": "execute_result"
    }
   ],
   "source": [
    "df[df['App_Name'] == 'Vanguard']"
   ]
  },
  {
   "cell_type": "markdown",
   "id": "2b23575e",
   "metadata": {
    "papermill": {
     "duration": 0.021209,
     "end_time": "2024-01-22T12:36:06.721566",
     "exception": false,
     "start_time": "2024-01-22T12:36:06.700357",
     "status": "completed"
    },
    "tags": []
   },
   "source": [
    "Size_Bytes, Price, DeveloperId, Average_User_Rating, Reviews, Current_Version_Score, Current_Version_Reviews"
   ]
  },
  {
   "cell_type": "code",
   "execution_count": 21,
   "id": "dce6b75c",
   "metadata": {
    "execution": {
     "iopub.execute_input": "2024-01-22T12:36:06.767750Z",
     "iopub.status.busy": "2024-01-22T12:36:06.767302Z",
     "iopub.status.idle": "2024-01-22T12:36:06.821708Z",
     "shell.execute_reply": "2024-01-22T12:36:06.820425Z"
    },
    "papermill": {
     "duration": 0.080243,
     "end_time": "2024-01-22T12:36:06.824252",
     "exception": false,
     "start_time": "2024-01-22T12:36:06.744009",
     "status": "completed"
    },
    "tags": []
   },
   "outputs": [
    {
     "data": {
      "text/plain": [
       "array([2.19934720e+07, 1.31358720e+07, 2.19432960e+07, ...,\n",
       "       1.19404544e+08, 5.96570000e+05, 5.06896000e+05])"
      ]
     },
     "execution_count": 21,
     "metadata": {},
     "output_type": "execute_result"
    }
   ],
   "source": [
    "df['Size_Bytes'].unique()"
   ]
  },
  {
   "cell_type": "code",
   "execution_count": 22,
   "id": "a2b2e7d3",
   "metadata": {
    "execution": {
     "iopub.execute_input": "2024-01-22T12:36:06.872572Z",
     "iopub.status.busy": "2024-01-22T12:36:06.871395Z",
     "iopub.status.idle": "2024-01-22T12:36:06.886998Z",
     "shell.execute_reply": "2024-01-22T12:36:06.885908Z"
    },
    "papermill": {
     "duration": 0.041456,
     "end_time": "2024-01-22T12:36:06.889388",
     "exception": false,
     "start_time": "2024-01-22T12:36:06.847932",
     "status": "completed"
    },
    "tags": []
   },
   "outputs": [
    {
     "data": {
      "text/plain": [
       "array([0.00000000e+00, 2.99000000e+00, 1.99000000e+00, 9.90000000e-01,\n",
       "       4.99000000e+00, 9.99000000e+00, 5.99000000e+00, 6.99000000e+00,\n",
       "       1.69900000e+01, 1.99900000e+01, 3.99900000e+01, 5.99900000e+01,\n",
       "       8.99000000e+00, 7.99000000e+00, 1.89900000e+01, 3.99000000e+00,\n",
       "       2.49900000e+01, 1.49900000e+01, 2.89900000e+01, 2.19900000e+01,\n",
       "       1.39900000e+01, 1.09900000e+01, 1.19900000e+01, 1.29990000e+02,\n",
       "       2.29900000e+01, 1.39990000e+02, 2.59900000e+01, 1.29900000e+01,\n",
       "       4.99900000e+01, 2.39900000e+01, 1.19990000e+02, 7.99900000e+01,\n",
       "       1.79900000e+01, 4.99990000e+02, 2.49990000e+02, 1.99990000e+02,\n",
       "       2.29990000e+02, 3.49900000e+01, 2.09900000e+01, 9.99900000e+01,\n",
       "       3.39900000e+01, 5.49900000e+01, 4.59900000e+01, 4.49900000e+01,\n",
       "       2.99900000e+01, 6.99900000e+01, 2.79900000e+01, 8.49900000e+01,\n",
       "       6.49900000e+01, 1.59900000e+01, 2.69900000e+01, 3.59900000e+01,\n",
       "       4.09900000e+01, 1.74990000e+02, 1.49990000e+02, 9.49900000e+01,\n",
       "       7.49900000e+01, 3.49990000e+02, 4.89900000e+01, 1.09990000e+02,\n",
       "       3.89900000e+01, 3.19900000e+01, 3.69900000e+01, 8.99900000e+01,\n",
       "       1.69990000e+02, 1.24990000e+02, 5.04126382e-01, 3.99990000e+02,\n",
       "       2.19990000e+02, 4.39900000e+01, 6.99990000e+02, 4.29900000e+01,\n",
       "       3.79900000e+01, 2.99990000e+02, 4.49990000e+02, 1.59990000e+02,\n",
       "       4.19900000e+01, 3.29900000e+01, 3.09900000e+01, 7.99990000e+02,\n",
       "       9.99990000e+02, 4.79900000e+01, 1.79990000e+02, 2.09990000e+02,\n",
       "       2.39990000e+02, 5.99990000e+02, 4.69900000e+01, 8.99990000e+02,\n",
       "       1.89990000e+02])"
      ]
     },
     "execution_count": 22,
     "metadata": {},
     "output_type": "execute_result"
    }
   ],
   "source": [
    "df['Price'].unique()"
   ]
  },
  {
   "cell_type": "code",
   "execution_count": 23,
   "id": "36d9d9a6",
   "metadata": {
    "execution": {
     "iopub.execute_input": "2024-01-22T12:36:06.935886Z",
     "iopub.status.busy": "2024-01-22T12:36:06.935270Z",
     "iopub.status.idle": "2024-01-22T12:36:06.982009Z",
     "shell.execute_reply": "2024-01-22T12:36:06.980916Z"
    },
    "papermill": {
     "duration": 0.072852,
     "end_time": "2024-01-22T12:36:06.984652",
     "exception": false,
     "start_time": "2024-01-22T12:36:06.911800",
     "status": "completed"
    },
    "tags": []
   },
   "outputs": [
    {
     "data": {
      "text/plain": [
       "array([1375410542, 1031572001, 1457024163, ..., 1532733861, 1522287989,\n",
       "       1438594214])"
      ]
     },
     "execution_count": 23,
     "metadata": {},
     "output_type": "execute_result"
    }
   ],
   "source": [
    "df['DeveloperId'].unique()"
   ]
  },
  {
   "cell_type": "code",
   "execution_count": 24,
   "id": "cf28e26f",
   "metadata": {
    "execution": {
     "iopub.execute_input": "2024-01-22T12:36:07.031416Z",
     "iopub.status.busy": "2024-01-22T12:36:07.030614Z",
     "iopub.status.idle": "2024-01-22T12:36:07.057949Z",
     "shell.execute_reply": "2024-01-22T12:36:07.056683Z"
    },
    "papermill": {
     "duration": 0.053815,
     "end_time": "2024-01-22T12:36:07.060697",
     "exception": false,
     "start_time": "2024-01-22T12:36:07.006882",
     "status": "completed"
    },
    "tags": []
   },
   "outputs": [
    {
     "data": {
      "text/plain": [
       "array([0.     , 5.     , 4.78132, ..., 4.00352, 3.91608, 4.82733])"
      ]
     },
     "execution_count": 24,
     "metadata": {},
     "output_type": "execute_result"
    }
   ],
   "source": [
    "df['Average_User_Rating'].unique()"
   ]
  },
  {
   "cell_type": "code",
   "execution_count": 25,
   "id": "4522b648",
   "metadata": {
    "execution": {
     "iopub.execute_input": "2024-01-22T12:36:07.108082Z",
     "iopub.status.busy": "2024-01-22T12:36:07.107171Z",
     "iopub.status.idle": "2024-01-22T12:36:07.122397Z",
     "shell.execute_reply": "2024-01-22T12:36:07.121314Z"
    },
    "papermill": {
     "duration": 0.041302,
     "end_time": "2024-01-22T12:36:07.124679",
     "exception": false,
     "start_time": "2024-01-22T12:36:07.083377",
     "status": "completed"
    },
    "tags": []
   },
   "outputs": [
    {
     "data": {
      "text/plain": [
       "array([    0,     1,  1285, ..., 12691, 35476, 10481])"
      ]
     },
     "execution_count": 25,
     "metadata": {},
     "output_type": "execute_result"
    }
   ],
   "source": [
    "df['Reviews'].unique()"
   ]
  },
  {
   "cell_type": "code",
   "execution_count": 26,
   "id": "ddf05df6",
   "metadata": {
    "execution": {
     "iopub.execute_input": "2024-01-22T12:36:07.171944Z",
     "iopub.status.busy": "2024-01-22T12:36:07.171283Z",
     "iopub.status.idle": "2024-01-22T12:36:07.198111Z",
     "shell.execute_reply": "2024-01-22T12:36:07.196977Z"
    },
    "papermill": {
     "duration": 0.053202,
     "end_time": "2024-01-22T12:36:07.200522",
     "exception": false,
     "start_time": "2024-01-22T12:36:07.147320",
     "status": "completed"
    },
    "tags": []
   },
   "outputs": [
    {
     "data": {
      "text/plain": [
       "array([0.     , 5.     , 4.78132, ..., 4.00352, 3.91608, 4.82733])"
      ]
     },
     "execution_count": 26,
     "metadata": {},
     "output_type": "execute_result"
    }
   ],
   "source": [
    "df['Current_Version_Score'].unique()"
   ]
  },
  {
   "cell_type": "code",
   "execution_count": 27,
   "id": "cfc921a5",
   "metadata": {
    "execution": {
     "iopub.execute_input": "2024-01-22T12:36:07.249312Z",
     "iopub.status.busy": "2024-01-22T12:36:07.248916Z",
     "iopub.status.idle": "2024-01-22T12:36:07.355702Z",
     "shell.execute_reply": "2024-01-22T12:36:07.354098Z"
    },
    "papermill": {
     "duration": 0.133995,
     "end_time": "2024-01-22T12:36:07.358425",
     "exception": false,
     "start_time": "2024-01-22T12:36:07.224430",
     "status": "completed"
    },
    "tags": []
   },
   "outputs": [
    {
     "data": {
      "text/plain": [
       "array(['4+', '17+', '9+', '12+', 'Not yet rated'], dtype=object)"
      ]
     },
     "execution_count": 27,
     "metadata": {},
     "output_type": "execute_result"
    }
   ],
   "source": [
    "df['Content_Rating'].unique()"
   ]
  },
  {
   "cell_type": "code",
   "execution_count": 28,
   "id": "60a87591",
   "metadata": {
    "execution": {
     "iopub.execute_input": "2024-01-22T12:36:07.405854Z",
     "iopub.status.busy": "2024-01-22T12:36:07.405183Z",
     "iopub.status.idle": "2024-01-22T12:36:08.075809Z",
     "shell.execute_reply": "2024-01-22T12:36:08.074529Z"
    },
    "papermill": {
     "duration": 0.697154,
     "end_time": "2024-01-22T12:36:08.078412",
     "exception": false,
     "start_time": "2024-01-22T12:36:07.381258",
     "status": "completed"
    },
    "tags": []
   },
   "outputs": [],
   "source": [
    "df['Size_MB'] = df['Size_Bytes'].apply(lambda x:(float(x) / 1024)/1024)"
   ]
  },
  {
   "cell_type": "code",
   "execution_count": 29,
   "id": "033cecc2",
   "metadata": {
    "execution": {
     "iopub.execute_input": "2024-01-22T12:36:08.127159Z",
     "iopub.status.busy": "2024-01-22T12:36:08.126659Z",
     "iopub.status.idle": "2024-01-22T12:36:08.162264Z",
     "shell.execute_reply": "2024-01-22T12:36:08.161166Z"
    },
    "papermill": {
     "duration": 0.062847,
     "end_time": "2024-01-22T12:36:08.164790",
     "exception": false,
     "start_time": "2024-01-22T12:36:08.101943",
     "status": "completed"
    },
    "tags": []
   },
   "outputs": [
    {
     "data": {
      "text/html": [
       "<div>\n",
       "<style scoped>\n",
       "    .dataframe tbody tr th:only-of-type {\n",
       "        vertical-align: middle;\n",
       "    }\n",
       "\n",
       "    .dataframe tbody tr th {\n",
       "        vertical-align: top;\n",
       "    }\n",
       "\n",
       "    .dataframe thead th {\n",
       "        text-align: right;\n",
       "    }\n",
       "</style>\n",
       "<table border=\"1\" class=\"dataframe\">\n",
       "  <thead>\n",
       "    <tr style=\"text-align: right;\">\n",
       "      <th></th>\n",
       "      <th>App_Id</th>\n",
       "      <th>App_Name</th>\n",
       "      <th>AppStore_Url</th>\n",
       "      <th>Primary_Genre</th>\n",
       "      <th>Content_Rating</th>\n",
       "      <th>Size_Bytes</th>\n",
       "      <th>Required_IOS_Version</th>\n",
       "      <th>Released</th>\n",
       "      <th>Updated</th>\n",
       "      <th>Version</th>\n",
       "      <th>...</th>\n",
       "      <th>Currency</th>\n",
       "      <th>Free</th>\n",
       "      <th>DeveloperId</th>\n",
       "      <th>Developer</th>\n",
       "      <th>Developer_Url</th>\n",
       "      <th>Average_User_Rating</th>\n",
       "      <th>Reviews</th>\n",
       "      <th>Current_Version_Score</th>\n",
       "      <th>Current_Version_Reviews</th>\n",
       "      <th>Size_MB</th>\n",
       "    </tr>\n",
       "  </thead>\n",
       "  <tbody>\n",
       "    <tr>\n",
       "      <th>0</th>\n",
       "      <td>com.hkbu.arc.apaper</td>\n",
       "      <td>A+ Paper Guide</td>\n",
       "      <td>https://apps.apple.com/us/app/a-paper-guide/id...</td>\n",
       "      <td>Education</td>\n",
       "      <td>4+</td>\n",
       "      <td>21993472.0</td>\n",
       "      <td>8.0</td>\n",
       "      <td>2017-09-28T03:02:41Z</td>\n",
       "      <td>2018-12-21T21:30:36Z</td>\n",
       "      <td>1.1.2</td>\n",
       "      <td>...</td>\n",
       "      <td>USD</td>\n",
       "      <td>True</td>\n",
       "      <td>1375410542</td>\n",
       "      <td>HKBU ARC</td>\n",
       "      <td>https://apps.apple.com/us/developer/hkbu-arc/i...</td>\n",
       "      <td>0.0</td>\n",
       "      <td>0</td>\n",
       "      <td>0.0</td>\n",
       "      <td>0</td>\n",
       "      <td>20.974609</td>\n",
       "    </tr>\n",
       "    <tr>\n",
       "      <th>1</th>\n",
       "      <td>com.dmitriev.abooks</td>\n",
       "      <td>A-Books</td>\n",
       "      <td>https://apps.apple.com/us/app/a-books/id103157...</td>\n",
       "      <td>Book</td>\n",
       "      <td>4+</td>\n",
       "      <td>13135872.0</td>\n",
       "      <td>10.0</td>\n",
       "      <td>2015-08-31T19:31:32Z</td>\n",
       "      <td>2019-07-23T20:31:09Z</td>\n",
       "      <td>1.3</td>\n",
       "      <td>...</td>\n",
       "      <td>USD</td>\n",
       "      <td>True</td>\n",
       "      <td>1031572001</td>\n",
       "      <td>Roman Dmitriev</td>\n",
       "      <td>https://apps.apple.com/us/developer/roman-dmit...</td>\n",
       "      <td>5.0</td>\n",
       "      <td>1</td>\n",
       "      <td>5.0</td>\n",
       "      <td>1</td>\n",
       "      <td>12.527344</td>\n",
       "    </tr>\n",
       "    <tr>\n",
       "      <th>2</th>\n",
       "      <td>no.terp.abooks</td>\n",
       "      <td>A-books</td>\n",
       "      <td>https://apps.apple.com/us/app/a-books/id145702...</td>\n",
       "      <td>Book</td>\n",
       "      <td>4+</td>\n",
       "      <td>21943296.0</td>\n",
       "      <td>9.0</td>\n",
       "      <td>2021-04-14T07:00:00Z</td>\n",
       "      <td>2021-05-30T21:08:54Z</td>\n",
       "      <td>1.3.1</td>\n",
       "      <td>...</td>\n",
       "      <td>USD</td>\n",
       "      <td>True</td>\n",
       "      <td>1457024163</td>\n",
       "      <td>Terp AS</td>\n",
       "      <td>https://apps.apple.com/us/developer/terp-as/id...</td>\n",
       "      <td>0.0</td>\n",
       "      <td>0</td>\n",
       "      <td>0.0</td>\n",
       "      <td>0</td>\n",
       "      <td>20.926758</td>\n",
       "    </tr>\n",
       "    <tr>\n",
       "      <th>3</th>\n",
       "      <td>fr.antoinettefleur.Book1</td>\n",
       "      <td>A-F Book #1</td>\n",
       "      <td>https://apps.apple.com/us/app/a-f-book-1/id500...</td>\n",
       "      <td>Book</td>\n",
       "      <td>4+</td>\n",
       "      <td>81851392.0</td>\n",
       "      <td>8.0</td>\n",
       "      <td>2012-02-10T03:40:07Z</td>\n",
       "      <td>2019-10-29T12:40:37Z</td>\n",
       "      <td>1.2</td>\n",
       "      <td>...</td>\n",
       "      <td>USD</td>\n",
       "      <td>False</td>\n",
       "      <td>439568839</td>\n",
       "      <td>i-editeur.com</td>\n",
       "      <td>https://apps.apple.com/us/developer/i-editeur-...</td>\n",
       "      <td>0.0</td>\n",
       "      <td>0</td>\n",
       "      <td>0.0</td>\n",
       "      <td>0</td>\n",
       "      <td>78.059570</td>\n",
       "    </tr>\n",
       "    <tr>\n",
       "      <th>4</th>\n",
       "      <td>com.imonstersoft.azdictionaryios</td>\n",
       "      <td>A-Z Synonyms Dictionary</td>\n",
       "      <td>https://apps.apple.com/us/app/a-z-synonyms-dic...</td>\n",
       "      <td>Reference</td>\n",
       "      <td>4+</td>\n",
       "      <td>64692224.0</td>\n",
       "      <td>9.0</td>\n",
       "      <td>2020-12-16T08:00:00Z</td>\n",
       "      <td>2020-12-18T21:36:11Z</td>\n",
       "      <td>1.0.1</td>\n",
       "      <td>...</td>\n",
       "      <td>USD</td>\n",
       "      <td>True</td>\n",
       "      <td>656731821</td>\n",
       "      <td>Ngov chiheang</td>\n",
       "      <td>https://apps.apple.com/us/developer/ngov-chihe...</td>\n",
       "      <td>0.0</td>\n",
       "      <td>0</td>\n",
       "      <td>0.0</td>\n",
       "      <td>0</td>\n",
       "      <td>61.695312</td>\n",
       "    </tr>\n",
       "  </tbody>\n",
       "</table>\n",
       "<p>5 rows × 21 columns</p>\n",
       "</div>"
      ],
      "text/plain": [
       "                             App_Id                 App_Name  \\\n",
       "0               com.hkbu.arc.apaper           A+ Paper Guide   \n",
       "1               com.dmitriev.abooks                  A-Books   \n",
       "2                    no.terp.abooks                  A-books   \n",
       "3          fr.antoinettefleur.Book1              A-F Book #1   \n",
       "4  com.imonstersoft.azdictionaryios  A-Z Synonyms Dictionary   \n",
       "\n",
       "                                        AppStore_Url Primary_Genre  \\\n",
       "0  https://apps.apple.com/us/app/a-paper-guide/id...     Education   \n",
       "1  https://apps.apple.com/us/app/a-books/id103157...          Book   \n",
       "2  https://apps.apple.com/us/app/a-books/id145702...          Book   \n",
       "3  https://apps.apple.com/us/app/a-f-book-1/id500...          Book   \n",
       "4  https://apps.apple.com/us/app/a-z-synonyms-dic...     Reference   \n",
       "\n",
       "  Content_Rating  Size_Bytes Required_IOS_Version              Released  \\\n",
       "0             4+  21993472.0                  8.0  2017-09-28T03:02:41Z   \n",
       "1             4+  13135872.0                 10.0  2015-08-31T19:31:32Z   \n",
       "2             4+  21943296.0                  9.0  2021-04-14T07:00:00Z   \n",
       "3             4+  81851392.0                  8.0  2012-02-10T03:40:07Z   \n",
       "4             4+  64692224.0                  9.0  2020-12-16T08:00:00Z   \n",
       "\n",
       "                Updated Version  ...  Currency   Free  DeveloperId  \\\n",
       "0  2018-12-21T21:30:36Z   1.1.2  ...       USD   True   1375410542   \n",
       "1  2019-07-23T20:31:09Z     1.3  ...       USD   True   1031572001   \n",
       "2  2021-05-30T21:08:54Z   1.3.1  ...       USD   True   1457024163   \n",
       "3  2019-10-29T12:40:37Z     1.2  ...       USD  False    439568839   \n",
       "4  2020-12-18T21:36:11Z   1.0.1  ...       USD   True    656731821   \n",
       "\n",
       "        Developer                                      Developer_Url  \\\n",
       "0        HKBU ARC  https://apps.apple.com/us/developer/hkbu-arc/i...   \n",
       "1  Roman Dmitriev  https://apps.apple.com/us/developer/roman-dmit...   \n",
       "2         Terp AS  https://apps.apple.com/us/developer/terp-as/id...   \n",
       "3   i-editeur.com  https://apps.apple.com/us/developer/i-editeur-...   \n",
       "4   Ngov chiheang  https://apps.apple.com/us/developer/ngov-chihe...   \n",
       "\n",
       "  Average_User_Rating  Reviews  Current_Version_Score  \\\n",
       "0                 0.0        0                    0.0   \n",
       "1                 5.0        1                    5.0   \n",
       "2                 0.0        0                    0.0   \n",
       "3                 0.0        0                    0.0   \n",
       "4                 0.0        0                    0.0   \n",
       "\n",
       "   Current_Version_Reviews    Size_MB  \n",
       "0                        0  20.974609  \n",
       "1                        1  12.527344  \n",
       "2                        0  20.926758  \n",
       "3                        0  78.059570  \n",
       "4                        0  61.695312  \n",
       "\n",
       "[5 rows x 21 columns]"
      ]
     },
     "execution_count": 29,
     "metadata": {},
     "output_type": "execute_result"
    }
   ],
   "source": [
    "df.head()"
   ]
  },
  {
   "cell_type": "code",
   "execution_count": 30,
   "id": "f6cbc9df",
   "metadata": {
    "execution": {
     "iopub.execute_input": "2024-01-22T12:36:08.220491Z",
     "iopub.status.busy": "2024-01-22T12:36:08.219514Z",
     "iopub.status.idle": "2024-01-22T12:36:08.618394Z",
     "shell.execute_reply": "2024-01-22T12:36:08.617169Z"
    },
    "papermill": {
     "duration": 0.429583,
     "end_time": "2024-01-22T12:36:08.620827",
     "exception": false,
     "start_time": "2024-01-22T12:36:08.191244",
     "status": "completed"
    },
    "tags": []
   },
   "outputs": [],
   "source": [
    "df['Type'] = np.where(df['Free'] == True,'Free','Paid')\n",
    "df.drop(columns = 'Free',axis=1, inplace= True )"
   ]
  },
  {
   "cell_type": "code",
   "execution_count": 31,
   "id": "32ddd165",
   "metadata": {
    "execution": {
     "iopub.execute_input": "2024-01-22T12:36:08.670610Z",
     "iopub.status.busy": "2024-01-22T12:36:08.670185Z",
     "iopub.status.idle": "2024-01-22T12:36:08.698437Z",
     "shell.execute_reply": "2024-01-22T12:36:08.697182Z"
    },
    "papermill": {
     "duration": 0.056657,
     "end_time": "2024-01-22T12:36:08.701265",
     "exception": false,
     "start_time": "2024-01-22T12:36:08.644608",
     "status": "completed"
    },
    "tags": []
   },
   "outputs": [
    {
     "data": {
      "text/html": [
       "<div>\n",
       "<style scoped>\n",
       "    .dataframe tbody tr th:only-of-type {\n",
       "        vertical-align: middle;\n",
       "    }\n",
       "\n",
       "    .dataframe tbody tr th {\n",
       "        vertical-align: top;\n",
       "    }\n",
       "\n",
       "    .dataframe thead th {\n",
       "        text-align: right;\n",
       "    }\n",
       "</style>\n",
       "<table border=\"1\" class=\"dataframe\">\n",
       "  <thead>\n",
       "    <tr style=\"text-align: right;\">\n",
       "      <th></th>\n",
       "      <th>App_Id</th>\n",
       "      <th>App_Name</th>\n",
       "      <th>AppStore_Url</th>\n",
       "      <th>Primary_Genre</th>\n",
       "      <th>Content_Rating</th>\n",
       "      <th>Size_Bytes</th>\n",
       "      <th>Required_IOS_Version</th>\n",
       "      <th>Released</th>\n",
       "      <th>Updated</th>\n",
       "      <th>Version</th>\n",
       "      <th>...</th>\n",
       "      <th>Currency</th>\n",
       "      <th>DeveloperId</th>\n",
       "      <th>Developer</th>\n",
       "      <th>Developer_Url</th>\n",
       "      <th>Average_User_Rating</th>\n",
       "      <th>Reviews</th>\n",
       "      <th>Current_Version_Score</th>\n",
       "      <th>Current_Version_Reviews</th>\n",
       "      <th>Size_MB</th>\n",
       "      <th>Type</th>\n",
       "    </tr>\n",
       "  </thead>\n",
       "  <tbody>\n",
       "    <tr>\n",
       "      <th>0</th>\n",
       "      <td>com.hkbu.arc.apaper</td>\n",
       "      <td>A+ Paper Guide</td>\n",
       "      <td>https://apps.apple.com/us/app/a-paper-guide/id...</td>\n",
       "      <td>Education</td>\n",
       "      <td>4+</td>\n",
       "      <td>21993472.0</td>\n",
       "      <td>8.0</td>\n",
       "      <td>2017-09-28T03:02:41Z</td>\n",
       "      <td>2018-12-21T21:30:36Z</td>\n",
       "      <td>1.1.2</td>\n",
       "      <td>...</td>\n",
       "      <td>USD</td>\n",
       "      <td>1375410542</td>\n",
       "      <td>HKBU ARC</td>\n",
       "      <td>https://apps.apple.com/us/developer/hkbu-arc/i...</td>\n",
       "      <td>0.0</td>\n",
       "      <td>0</td>\n",
       "      <td>0.0</td>\n",
       "      <td>0</td>\n",
       "      <td>20.974609</td>\n",
       "      <td>Free</td>\n",
       "    </tr>\n",
       "    <tr>\n",
       "      <th>1</th>\n",
       "      <td>com.dmitriev.abooks</td>\n",
       "      <td>A-Books</td>\n",
       "      <td>https://apps.apple.com/us/app/a-books/id103157...</td>\n",
       "      <td>Book</td>\n",
       "      <td>4+</td>\n",
       "      <td>13135872.0</td>\n",
       "      <td>10.0</td>\n",
       "      <td>2015-08-31T19:31:32Z</td>\n",
       "      <td>2019-07-23T20:31:09Z</td>\n",
       "      <td>1.3</td>\n",
       "      <td>...</td>\n",
       "      <td>USD</td>\n",
       "      <td>1031572001</td>\n",
       "      <td>Roman Dmitriev</td>\n",
       "      <td>https://apps.apple.com/us/developer/roman-dmit...</td>\n",
       "      <td>5.0</td>\n",
       "      <td>1</td>\n",
       "      <td>5.0</td>\n",
       "      <td>1</td>\n",
       "      <td>12.527344</td>\n",
       "      <td>Free</td>\n",
       "    </tr>\n",
       "    <tr>\n",
       "      <th>2</th>\n",
       "      <td>no.terp.abooks</td>\n",
       "      <td>A-books</td>\n",
       "      <td>https://apps.apple.com/us/app/a-books/id145702...</td>\n",
       "      <td>Book</td>\n",
       "      <td>4+</td>\n",
       "      <td>21943296.0</td>\n",
       "      <td>9.0</td>\n",
       "      <td>2021-04-14T07:00:00Z</td>\n",
       "      <td>2021-05-30T21:08:54Z</td>\n",
       "      <td>1.3.1</td>\n",
       "      <td>...</td>\n",
       "      <td>USD</td>\n",
       "      <td>1457024163</td>\n",
       "      <td>Terp AS</td>\n",
       "      <td>https://apps.apple.com/us/developer/terp-as/id...</td>\n",
       "      <td>0.0</td>\n",
       "      <td>0</td>\n",
       "      <td>0.0</td>\n",
       "      <td>0</td>\n",
       "      <td>20.926758</td>\n",
       "      <td>Free</td>\n",
       "    </tr>\n",
       "    <tr>\n",
       "      <th>3</th>\n",
       "      <td>fr.antoinettefleur.Book1</td>\n",
       "      <td>A-F Book #1</td>\n",
       "      <td>https://apps.apple.com/us/app/a-f-book-1/id500...</td>\n",
       "      <td>Book</td>\n",
       "      <td>4+</td>\n",
       "      <td>81851392.0</td>\n",
       "      <td>8.0</td>\n",
       "      <td>2012-02-10T03:40:07Z</td>\n",
       "      <td>2019-10-29T12:40:37Z</td>\n",
       "      <td>1.2</td>\n",
       "      <td>...</td>\n",
       "      <td>USD</td>\n",
       "      <td>439568839</td>\n",
       "      <td>i-editeur.com</td>\n",
       "      <td>https://apps.apple.com/us/developer/i-editeur-...</td>\n",
       "      <td>0.0</td>\n",
       "      <td>0</td>\n",
       "      <td>0.0</td>\n",
       "      <td>0</td>\n",
       "      <td>78.059570</td>\n",
       "      <td>Paid</td>\n",
       "    </tr>\n",
       "    <tr>\n",
       "      <th>4</th>\n",
       "      <td>com.imonstersoft.azdictionaryios</td>\n",
       "      <td>A-Z Synonyms Dictionary</td>\n",
       "      <td>https://apps.apple.com/us/app/a-z-synonyms-dic...</td>\n",
       "      <td>Reference</td>\n",
       "      <td>4+</td>\n",
       "      <td>64692224.0</td>\n",
       "      <td>9.0</td>\n",
       "      <td>2020-12-16T08:00:00Z</td>\n",
       "      <td>2020-12-18T21:36:11Z</td>\n",
       "      <td>1.0.1</td>\n",
       "      <td>...</td>\n",
       "      <td>USD</td>\n",
       "      <td>656731821</td>\n",
       "      <td>Ngov chiheang</td>\n",
       "      <td>https://apps.apple.com/us/developer/ngov-chihe...</td>\n",
       "      <td>0.0</td>\n",
       "      <td>0</td>\n",
       "      <td>0.0</td>\n",
       "      <td>0</td>\n",
       "      <td>61.695312</td>\n",
       "      <td>Free</td>\n",
       "    </tr>\n",
       "  </tbody>\n",
       "</table>\n",
       "<p>5 rows × 21 columns</p>\n",
       "</div>"
      ],
      "text/plain": [
       "                             App_Id                 App_Name  \\\n",
       "0               com.hkbu.arc.apaper           A+ Paper Guide   \n",
       "1               com.dmitriev.abooks                  A-Books   \n",
       "2                    no.terp.abooks                  A-books   \n",
       "3          fr.antoinettefleur.Book1              A-F Book #1   \n",
       "4  com.imonstersoft.azdictionaryios  A-Z Synonyms Dictionary   \n",
       "\n",
       "                                        AppStore_Url Primary_Genre  \\\n",
       "0  https://apps.apple.com/us/app/a-paper-guide/id...     Education   \n",
       "1  https://apps.apple.com/us/app/a-books/id103157...          Book   \n",
       "2  https://apps.apple.com/us/app/a-books/id145702...          Book   \n",
       "3  https://apps.apple.com/us/app/a-f-book-1/id500...          Book   \n",
       "4  https://apps.apple.com/us/app/a-z-synonyms-dic...     Reference   \n",
       "\n",
       "  Content_Rating  Size_Bytes Required_IOS_Version              Released  \\\n",
       "0             4+  21993472.0                  8.0  2017-09-28T03:02:41Z   \n",
       "1             4+  13135872.0                 10.0  2015-08-31T19:31:32Z   \n",
       "2             4+  21943296.0                  9.0  2021-04-14T07:00:00Z   \n",
       "3             4+  81851392.0                  8.0  2012-02-10T03:40:07Z   \n",
       "4             4+  64692224.0                  9.0  2020-12-16T08:00:00Z   \n",
       "\n",
       "                Updated Version  ...  Currency DeveloperId       Developer  \\\n",
       "0  2018-12-21T21:30:36Z   1.1.2  ...       USD  1375410542        HKBU ARC   \n",
       "1  2019-07-23T20:31:09Z     1.3  ...       USD  1031572001  Roman Dmitriev   \n",
       "2  2021-05-30T21:08:54Z   1.3.1  ...       USD  1457024163         Terp AS   \n",
       "3  2019-10-29T12:40:37Z     1.2  ...       USD   439568839   i-editeur.com   \n",
       "4  2020-12-18T21:36:11Z   1.0.1  ...       USD   656731821   Ngov chiheang   \n",
       "\n",
       "                                       Developer_Url Average_User_Rating  \\\n",
       "0  https://apps.apple.com/us/developer/hkbu-arc/i...                 0.0   \n",
       "1  https://apps.apple.com/us/developer/roman-dmit...                 5.0   \n",
       "2  https://apps.apple.com/us/developer/terp-as/id...                 0.0   \n",
       "3  https://apps.apple.com/us/developer/i-editeur-...                 0.0   \n",
       "4  https://apps.apple.com/us/developer/ngov-chihe...                 0.0   \n",
       "\n",
       "   Reviews  Current_Version_Score  Current_Version_Reviews    Size_MB  Type  \n",
       "0        0                    0.0                        0  20.974609  Free  \n",
       "1        1                    5.0                        1  12.527344  Free  \n",
       "2        0                    0.0                        0  20.926758  Free  \n",
       "3        0                    0.0                        0  78.059570  Paid  \n",
       "4        0                    0.0                        0  61.695312  Free  \n",
       "\n",
       "[5 rows x 21 columns]"
      ]
     },
     "execution_count": 31,
     "metadata": {},
     "output_type": "execute_result"
    }
   ],
   "source": [
    "df.head()"
   ]
  },
  {
   "cell_type": "code",
   "execution_count": 32,
   "id": "f66e8356",
   "metadata": {
    "execution": {
     "iopub.execute_input": "2024-01-22T12:36:08.752014Z",
     "iopub.status.busy": "2024-01-22T12:36:08.751562Z",
     "iopub.status.idle": "2024-01-22T12:36:08.864316Z",
     "shell.execute_reply": "2024-01-22T12:36:08.863057Z"
    },
    "papermill": {
     "duration": 0.141208,
     "end_time": "2024-01-22T12:36:08.866898",
     "exception": false,
     "start_time": "2024-01-22T12:36:08.725690",
     "status": "completed"
    },
    "tags": []
   },
   "outputs": [
    {
     "data": {
      "text/plain": [
       "array(['4+', '17+', '9+', '12+', 'Not yet rated'], dtype=object)"
      ]
     },
     "execution_count": 32,
     "metadata": {},
     "output_type": "execute_result"
    }
   ],
   "source": [
    "df['Content_Rating'].unique()"
   ]
  },
  {
   "cell_type": "code",
   "execution_count": 33,
   "id": "e2775698",
   "metadata": {
    "execution": {
     "iopub.execute_input": "2024-01-22T12:36:08.917045Z",
     "iopub.status.busy": "2024-01-22T12:36:08.916646Z",
     "iopub.status.idle": "2024-01-22T12:36:10.049640Z",
     "shell.execute_reply": "2024-01-22T12:36:10.048646Z"
    },
    "papermill": {
     "duration": 1.161261,
     "end_time": "2024-01-22T12:36:10.052392",
     "exception": false,
     "start_time": "2024-01-22T12:36:08.891131",
     "status": "completed"
    },
    "tags": []
   },
   "outputs": [],
   "source": [
    "df['Content_Rating'] = df['Content_Rating'].replace(\"4+\",\"Children\")\n",
    "df['Content_Rating'] = df['Content_Rating'].replace(\"9+\",\"Kids\")\n",
    "df['Content_Rating'] = df['Content_Rating'].replace(\"12+\",\"Teens\")\n",
    "df['Content_Rating'] = df['Content_Rating'].replace(\"17+\",\"Adults\")\n",
    "df['Content_Rating'] = df['Content_Rating'].replace(\"Not yet rated\",\"Everyone\")"
   ]
  },
  {
   "cell_type": "code",
   "execution_count": 34,
   "id": "06175a20",
   "metadata": {
    "execution": {
     "iopub.execute_input": "2024-01-22T12:36:10.102400Z",
     "iopub.status.busy": "2024-01-22T12:36:10.102012Z",
     "iopub.status.idle": "2024-01-22T12:36:10.130929Z",
     "shell.execute_reply": "2024-01-22T12:36:10.129698Z"
    },
    "papermill": {
     "duration": 0.056856,
     "end_time": "2024-01-22T12:36:10.133466",
     "exception": false,
     "start_time": "2024-01-22T12:36:10.076610",
     "status": "completed"
    },
    "tags": []
   },
   "outputs": [
    {
     "data": {
      "text/html": [
       "<div>\n",
       "<style scoped>\n",
       "    .dataframe tbody tr th:only-of-type {\n",
       "        vertical-align: middle;\n",
       "    }\n",
       "\n",
       "    .dataframe tbody tr th {\n",
       "        vertical-align: top;\n",
       "    }\n",
       "\n",
       "    .dataframe thead th {\n",
       "        text-align: right;\n",
       "    }\n",
       "</style>\n",
       "<table border=\"1\" class=\"dataframe\">\n",
       "  <thead>\n",
       "    <tr style=\"text-align: right;\">\n",
       "      <th></th>\n",
       "      <th>App_Id</th>\n",
       "      <th>App_Name</th>\n",
       "      <th>AppStore_Url</th>\n",
       "      <th>Primary_Genre</th>\n",
       "      <th>Content_Rating</th>\n",
       "      <th>Size_Bytes</th>\n",
       "      <th>Required_IOS_Version</th>\n",
       "      <th>Released</th>\n",
       "      <th>Updated</th>\n",
       "      <th>Version</th>\n",
       "      <th>...</th>\n",
       "      <th>Currency</th>\n",
       "      <th>DeveloperId</th>\n",
       "      <th>Developer</th>\n",
       "      <th>Developer_Url</th>\n",
       "      <th>Average_User_Rating</th>\n",
       "      <th>Reviews</th>\n",
       "      <th>Current_Version_Score</th>\n",
       "      <th>Current_Version_Reviews</th>\n",
       "      <th>Size_MB</th>\n",
       "      <th>Type</th>\n",
       "    </tr>\n",
       "  </thead>\n",
       "  <tbody>\n",
       "    <tr>\n",
       "      <th>0</th>\n",
       "      <td>com.hkbu.arc.apaper</td>\n",
       "      <td>A+ Paper Guide</td>\n",
       "      <td>https://apps.apple.com/us/app/a-paper-guide/id...</td>\n",
       "      <td>Education</td>\n",
       "      <td>Children</td>\n",
       "      <td>21993472.0</td>\n",
       "      <td>8.0</td>\n",
       "      <td>2017-09-28T03:02:41Z</td>\n",
       "      <td>2018-12-21T21:30:36Z</td>\n",
       "      <td>1.1.2</td>\n",
       "      <td>...</td>\n",
       "      <td>USD</td>\n",
       "      <td>1375410542</td>\n",
       "      <td>HKBU ARC</td>\n",
       "      <td>https://apps.apple.com/us/developer/hkbu-arc/i...</td>\n",
       "      <td>0.0</td>\n",
       "      <td>0</td>\n",
       "      <td>0.0</td>\n",
       "      <td>0</td>\n",
       "      <td>20.974609</td>\n",
       "      <td>Free</td>\n",
       "    </tr>\n",
       "    <tr>\n",
       "      <th>1</th>\n",
       "      <td>com.dmitriev.abooks</td>\n",
       "      <td>A-Books</td>\n",
       "      <td>https://apps.apple.com/us/app/a-books/id103157...</td>\n",
       "      <td>Book</td>\n",
       "      <td>Children</td>\n",
       "      <td>13135872.0</td>\n",
       "      <td>10.0</td>\n",
       "      <td>2015-08-31T19:31:32Z</td>\n",
       "      <td>2019-07-23T20:31:09Z</td>\n",
       "      <td>1.3</td>\n",
       "      <td>...</td>\n",
       "      <td>USD</td>\n",
       "      <td>1031572001</td>\n",
       "      <td>Roman Dmitriev</td>\n",
       "      <td>https://apps.apple.com/us/developer/roman-dmit...</td>\n",
       "      <td>5.0</td>\n",
       "      <td>1</td>\n",
       "      <td>5.0</td>\n",
       "      <td>1</td>\n",
       "      <td>12.527344</td>\n",
       "      <td>Free</td>\n",
       "    </tr>\n",
       "    <tr>\n",
       "      <th>2</th>\n",
       "      <td>no.terp.abooks</td>\n",
       "      <td>A-books</td>\n",
       "      <td>https://apps.apple.com/us/app/a-books/id145702...</td>\n",
       "      <td>Book</td>\n",
       "      <td>Children</td>\n",
       "      <td>21943296.0</td>\n",
       "      <td>9.0</td>\n",
       "      <td>2021-04-14T07:00:00Z</td>\n",
       "      <td>2021-05-30T21:08:54Z</td>\n",
       "      <td>1.3.1</td>\n",
       "      <td>...</td>\n",
       "      <td>USD</td>\n",
       "      <td>1457024163</td>\n",
       "      <td>Terp AS</td>\n",
       "      <td>https://apps.apple.com/us/developer/terp-as/id...</td>\n",
       "      <td>0.0</td>\n",
       "      <td>0</td>\n",
       "      <td>0.0</td>\n",
       "      <td>0</td>\n",
       "      <td>20.926758</td>\n",
       "      <td>Free</td>\n",
       "    </tr>\n",
       "    <tr>\n",
       "      <th>3</th>\n",
       "      <td>fr.antoinettefleur.Book1</td>\n",
       "      <td>A-F Book #1</td>\n",
       "      <td>https://apps.apple.com/us/app/a-f-book-1/id500...</td>\n",
       "      <td>Book</td>\n",
       "      <td>Children</td>\n",
       "      <td>81851392.0</td>\n",
       "      <td>8.0</td>\n",
       "      <td>2012-02-10T03:40:07Z</td>\n",
       "      <td>2019-10-29T12:40:37Z</td>\n",
       "      <td>1.2</td>\n",
       "      <td>...</td>\n",
       "      <td>USD</td>\n",
       "      <td>439568839</td>\n",
       "      <td>i-editeur.com</td>\n",
       "      <td>https://apps.apple.com/us/developer/i-editeur-...</td>\n",
       "      <td>0.0</td>\n",
       "      <td>0</td>\n",
       "      <td>0.0</td>\n",
       "      <td>0</td>\n",
       "      <td>78.059570</td>\n",
       "      <td>Paid</td>\n",
       "    </tr>\n",
       "    <tr>\n",
       "      <th>4</th>\n",
       "      <td>com.imonstersoft.azdictionaryios</td>\n",
       "      <td>A-Z Synonyms Dictionary</td>\n",
       "      <td>https://apps.apple.com/us/app/a-z-synonyms-dic...</td>\n",
       "      <td>Reference</td>\n",
       "      <td>Children</td>\n",
       "      <td>64692224.0</td>\n",
       "      <td>9.0</td>\n",
       "      <td>2020-12-16T08:00:00Z</td>\n",
       "      <td>2020-12-18T21:36:11Z</td>\n",
       "      <td>1.0.1</td>\n",
       "      <td>...</td>\n",
       "      <td>USD</td>\n",
       "      <td>656731821</td>\n",
       "      <td>Ngov chiheang</td>\n",
       "      <td>https://apps.apple.com/us/developer/ngov-chihe...</td>\n",
       "      <td>0.0</td>\n",
       "      <td>0</td>\n",
       "      <td>0.0</td>\n",
       "      <td>0</td>\n",
       "      <td>61.695312</td>\n",
       "      <td>Free</td>\n",
       "    </tr>\n",
       "  </tbody>\n",
       "</table>\n",
       "<p>5 rows × 21 columns</p>\n",
       "</div>"
      ],
      "text/plain": [
       "                             App_Id                 App_Name  \\\n",
       "0               com.hkbu.arc.apaper           A+ Paper Guide   \n",
       "1               com.dmitriev.abooks                  A-Books   \n",
       "2                    no.terp.abooks                  A-books   \n",
       "3          fr.antoinettefleur.Book1              A-F Book #1   \n",
       "4  com.imonstersoft.azdictionaryios  A-Z Synonyms Dictionary   \n",
       "\n",
       "                                        AppStore_Url Primary_Genre  \\\n",
       "0  https://apps.apple.com/us/app/a-paper-guide/id...     Education   \n",
       "1  https://apps.apple.com/us/app/a-books/id103157...          Book   \n",
       "2  https://apps.apple.com/us/app/a-books/id145702...          Book   \n",
       "3  https://apps.apple.com/us/app/a-f-book-1/id500...          Book   \n",
       "4  https://apps.apple.com/us/app/a-z-synonyms-dic...     Reference   \n",
       "\n",
       "  Content_Rating  Size_Bytes Required_IOS_Version              Released  \\\n",
       "0       Children  21993472.0                  8.0  2017-09-28T03:02:41Z   \n",
       "1       Children  13135872.0                 10.0  2015-08-31T19:31:32Z   \n",
       "2       Children  21943296.0                  9.0  2021-04-14T07:00:00Z   \n",
       "3       Children  81851392.0                  8.0  2012-02-10T03:40:07Z   \n",
       "4       Children  64692224.0                  9.0  2020-12-16T08:00:00Z   \n",
       "\n",
       "                Updated Version  ...  Currency DeveloperId       Developer  \\\n",
       "0  2018-12-21T21:30:36Z   1.1.2  ...       USD  1375410542        HKBU ARC   \n",
       "1  2019-07-23T20:31:09Z     1.3  ...       USD  1031572001  Roman Dmitriev   \n",
       "2  2021-05-30T21:08:54Z   1.3.1  ...       USD  1457024163         Terp AS   \n",
       "3  2019-10-29T12:40:37Z     1.2  ...       USD   439568839   i-editeur.com   \n",
       "4  2020-12-18T21:36:11Z   1.0.1  ...       USD   656731821   Ngov chiheang   \n",
       "\n",
       "                                       Developer_Url Average_User_Rating  \\\n",
       "0  https://apps.apple.com/us/developer/hkbu-arc/i...                 0.0   \n",
       "1  https://apps.apple.com/us/developer/roman-dmit...                 5.0   \n",
       "2  https://apps.apple.com/us/developer/terp-as/id...                 0.0   \n",
       "3  https://apps.apple.com/us/developer/i-editeur-...                 0.0   \n",
       "4  https://apps.apple.com/us/developer/ngov-chihe...                 0.0   \n",
       "\n",
       "   Reviews  Current_Version_Score  Current_Version_Reviews    Size_MB  Type  \n",
       "0        0                    0.0                        0  20.974609  Free  \n",
       "1        1                    5.0                        1  12.527344  Free  \n",
       "2        0                    0.0                        0  20.926758  Free  \n",
       "3        0                    0.0                        0  78.059570  Paid  \n",
       "4        0                    0.0                        0  61.695312  Free  \n",
       "\n",
       "[5 rows x 21 columns]"
      ]
     },
     "execution_count": 34,
     "metadata": {},
     "output_type": "execute_result"
    }
   ],
   "source": [
    "df.head()"
   ]
  },
  {
   "cell_type": "code",
   "execution_count": 35,
   "id": "2a97027c",
   "metadata": {
    "execution": {
     "iopub.execute_input": "2024-01-22T12:36:10.184911Z",
     "iopub.status.busy": "2024-01-22T12:36:10.184031Z",
     "iopub.status.idle": "2024-01-22T12:36:10.192488Z",
     "shell.execute_reply": "2024-01-22T12:36:10.191418Z"
    },
    "papermill": {
     "duration": 0.036418,
     "end_time": "2024-01-22T12:36:10.194692",
     "exception": false,
     "start_time": "2024-01-22T12:36:10.158274",
     "status": "completed"
    },
    "tags": []
   },
   "outputs": [
    {
     "data": {
      "text/plain": [
       "0"
      ]
     },
     "execution_count": 35,
     "metadata": {},
     "output_type": "execute_result"
    }
   ],
   "source": [
    "df['Reviews'].min()"
   ]
  },
  {
   "cell_type": "code",
   "execution_count": 36,
   "id": "c6a748b6",
   "metadata": {
    "execution": {
     "iopub.execute_input": "2024-01-22T12:36:10.245455Z",
     "iopub.status.busy": "2024-01-22T12:36:10.245047Z",
     "iopub.status.idle": "2024-01-22T12:36:10.253187Z",
     "shell.execute_reply": "2024-01-22T12:36:10.251968Z"
    },
    "papermill": {
     "duration": 0.036256,
     "end_time": "2024-01-22T12:36:10.255562",
     "exception": false,
     "start_time": "2024-01-22T12:36:10.219306",
     "status": "completed"
    },
    "tags": []
   },
   "outputs": [
    {
     "data": {
      "text/plain": [
       "22685334"
      ]
     },
     "execution_count": 36,
     "metadata": {},
     "output_type": "execute_result"
    }
   ],
   "source": [
    "df['Reviews'].max()"
   ]
  },
  {
   "cell_type": "code",
   "execution_count": 37,
   "id": "0233ba87",
   "metadata": {
    "execution": {
     "iopub.execute_input": "2024-01-22T12:36:10.307479Z",
     "iopub.status.busy": "2024-01-22T12:36:10.307055Z",
     "iopub.status.idle": "2024-01-22T12:36:10.343108Z",
     "shell.execute_reply": "2024-01-22T12:36:10.342240Z"
    },
    "papermill": {
     "duration": 0.0643,
     "end_time": "2024-01-22T12:36:10.345111",
     "exception": false,
     "start_time": "2024-01-22T12:36:10.280811",
     "status": "completed"
    },
    "tags": []
   },
   "outputs": [
    {
     "data": {
      "text/plain": [
       "Reviews\n",
       "0         683549\n",
       "1         140293\n",
       "2          71672\n",
       "3          44834\n",
       "4          30651\n",
       "           ...  \n",
       "14108          1\n",
       "117042         1\n",
       "19351          1\n",
       "4741           1\n",
       "10481          1\n",
       "Name: count, Length: 13667, dtype: int64"
      ]
     },
     "execution_count": 37,
     "metadata": {},
     "output_type": "execute_result"
    }
   ],
   "source": [
    "df['Reviews'].value_counts()"
   ]
  },
  {
   "cell_type": "code",
   "execution_count": 38,
   "id": "1771f9cc",
   "metadata": {
    "execution": {
     "iopub.execute_input": "2024-01-22T12:36:10.396306Z",
     "iopub.status.busy": "2024-01-22T12:36:10.395874Z",
     "iopub.status.idle": "2024-01-22T12:36:10.453727Z",
     "shell.execute_reply": "2024-01-22T12:36:10.452375Z"
    },
    "papermill": {
     "duration": 0.086806,
     "end_time": "2024-01-22T12:36:10.456595",
     "exception": false,
     "start_time": "2024-01-22T12:36:10.369789",
     "status": "completed"
    },
    "tags": []
   },
   "outputs": [],
   "source": [
    "df['ReviewCategory'] = pd.cut(\n",
    "  df['Reviews'], \n",
    "  bins=[0,10000,500000,1000000,22685334],\n",
    "  labels=['0 to 10k', '10k to 500k', '500k to 1M', 'More than 1M']\n",
    ")\n",
    "\n",
    "df['ReviewCategory'] = df['ReviewCategory'].cat.add_categories('NoReview') \n",
    "df['ReviewCategory'] = df['ReviewCategory'].fillna('NoReview')"
   ]
  },
  {
   "cell_type": "code",
   "execution_count": 39,
   "id": "bac8df7a",
   "metadata": {
    "execution": {
     "iopub.execute_input": "2024-01-22T12:36:10.508237Z",
     "iopub.status.busy": "2024-01-22T12:36:10.507805Z",
     "iopub.status.idle": "2024-01-22T12:36:10.537506Z",
     "shell.execute_reply": "2024-01-22T12:36:10.536418Z"
    },
    "papermill": {
     "duration": 0.058662,
     "end_time": "2024-01-22T12:36:10.540152",
     "exception": false,
     "start_time": "2024-01-22T12:36:10.481490",
     "status": "completed"
    },
    "tags": []
   },
   "outputs": [
    {
     "data": {
      "text/html": [
       "<div>\n",
       "<style scoped>\n",
       "    .dataframe tbody tr th:only-of-type {\n",
       "        vertical-align: middle;\n",
       "    }\n",
       "\n",
       "    .dataframe tbody tr th {\n",
       "        vertical-align: top;\n",
       "    }\n",
       "\n",
       "    .dataframe thead th {\n",
       "        text-align: right;\n",
       "    }\n",
       "</style>\n",
       "<table border=\"1\" class=\"dataframe\">\n",
       "  <thead>\n",
       "    <tr style=\"text-align: right;\">\n",
       "      <th></th>\n",
       "      <th>App_Id</th>\n",
       "      <th>App_Name</th>\n",
       "      <th>AppStore_Url</th>\n",
       "      <th>Primary_Genre</th>\n",
       "      <th>Content_Rating</th>\n",
       "      <th>Size_Bytes</th>\n",
       "      <th>Required_IOS_Version</th>\n",
       "      <th>Released</th>\n",
       "      <th>Updated</th>\n",
       "      <th>Version</th>\n",
       "      <th>...</th>\n",
       "      <th>DeveloperId</th>\n",
       "      <th>Developer</th>\n",
       "      <th>Developer_Url</th>\n",
       "      <th>Average_User_Rating</th>\n",
       "      <th>Reviews</th>\n",
       "      <th>Current_Version_Score</th>\n",
       "      <th>Current_Version_Reviews</th>\n",
       "      <th>Size_MB</th>\n",
       "      <th>Type</th>\n",
       "      <th>ReviewCategory</th>\n",
       "    </tr>\n",
       "  </thead>\n",
       "  <tbody>\n",
       "    <tr>\n",
       "      <th>0</th>\n",
       "      <td>com.hkbu.arc.apaper</td>\n",
       "      <td>A+ Paper Guide</td>\n",
       "      <td>https://apps.apple.com/us/app/a-paper-guide/id...</td>\n",
       "      <td>Education</td>\n",
       "      <td>Children</td>\n",
       "      <td>21993472.0</td>\n",
       "      <td>8.0</td>\n",
       "      <td>2017-09-28T03:02:41Z</td>\n",
       "      <td>2018-12-21T21:30:36Z</td>\n",
       "      <td>1.1.2</td>\n",
       "      <td>...</td>\n",
       "      <td>1375410542</td>\n",
       "      <td>HKBU ARC</td>\n",
       "      <td>https://apps.apple.com/us/developer/hkbu-arc/i...</td>\n",
       "      <td>0.0</td>\n",
       "      <td>0</td>\n",
       "      <td>0.0</td>\n",
       "      <td>0</td>\n",
       "      <td>20.974609</td>\n",
       "      <td>Free</td>\n",
       "      <td>NoReview</td>\n",
       "    </tr>\n",
       "    <tr>\n",
       "      <th>1</th>\n",
       "      <td>com.dmitriev.abooks</td>\n",
       "      <td>A-Books</td>\n",
       "      <td>https://apps.apple.com/us/app/a-books/id103157...</td>\n",
       "      <td>Book</td>\n",
       "      <td>Children</td>\n",
       "      <td>13135872.0</td>\n",
       "      <td>10.0</td>\n",
       "      <td>2015-08-31T19:31:32Z</td>\n",
       "      <td>2019-07-23T20:31:09Z</td>\n",
       "      <td>1.3</td>\n",
       "      <td>...</td>\n",
       "      <td>1031572001</td>\n",
       "      <td>Roman Dmitriev</td>\n",
       "      <td>https://apps.apple.com/us/developer/roman-dmit...</td>\n",
       "      <td>5.0</td>\n",
       "      <td>1</td>\n",
       "      <td>5.0</td>\n",
       "      <td>1</td>\n",
       "      <td>12.527344</td>\n",
       "      <td>Free</td>\n",
       "      <td>0 to 10k</td>\n",
       "    </tr>\n",
       "    <tr>\n",
       "      <th>2</th>\n",
       "      <td>no.terp.abooks</td>\n",
       "      <td>A-books</td>\n",
       "      <td>https://apps.apple.com/us/app/a-books/id145702...</td>\n",
       "      <td>Book</td>\n",
       "      <td>Children</td>\n",
       "      <td>21943296.0</td>\n",
       "      <td>9.0</td>\n",
       "      <td>2021-04-14T07:00:00Z</td>\n",
       "      <td>2021-05-30T21:08:54Z</td>\n",
       "      <td>1.3.1</td>\n",
       "      <td>...</td>\n",
       "      <td>1457024163</td>\n",
       "      <td>Terp AS</td>\n",
       "      <td>https://apps.apple.com/us/developer/terp-as/id...</td>\n",
       "      <td>0.0</td>\n",
       "      <td>0</td>\n",
       "      <td>0.0</td>\n",
       "      <td>0</td>\n",
       "      <td>20.926758</td>\n",
       "      <td>Free</td>\n",
       "      <td>NoReview</td>\n",
       "    </tr>\n",
       "    <tr>\n",
       "      <th>3</th>\n",
       "      <td>fr.antoinettefleur.Book1</td>\n",
       "      <td>A-F Book #1</td>\n",
       "      <td>https://apps.apple.com/us/app/a-f-book-1/id500...</td>\n",
       "      <td>Book</td>\n",
       "      <td>Children</td>\n",
       "      <td>81851392.0</td>\n",
       "      <td>8.0</td>\n",
       "      <td>2012-02-10T03:40:07Z</td>\n",
       "      <td>2019-10-29T12:40:37Z</td>\n",
       "      <td>1.2</td>\n",
       "      <td>...</td>\n",
       "      <td>439568839</td>\n",
       "      <td>i-editeur.com</td>\n",
       "      <td>https://apps.apple.com/us/developer/i-editeur-...</td>\n",
       "      <td>0.0</td>\n",
       "      <td>0</td>\n",
       "      <td>0.0</td>\n",
       "      <td>0</td>\n",
       "      <td>78.059570</td>\n",
       "      <td>Paid</td>\n",
       "      <td>NoReview</td>\n",
       "    </tr>\n",
       "    <tr>\n",
       "      <th>4</th>\n",
       "      <td>com.imonstersoft.azdictionaryios</td>\n",
       "      <td>A-Z Synonyms Dictionary</td>\n",
       "      <td>https://apps.apple.com/us/app/a-z-synonyms-dic...</td>\n",
       "      <td>Reference</td>\n",
       "      <td>Children</td>\n",
       "      <td>64692224.0</td>\n",
       "      <td>9.0</td>\n",
       "      <td>2020-12-16T08:00:00Z</td>\n",
       "      <td>2020-12-18T21:36:11Z</td>\n",
       "      <td>1.0.1</td>\n",
       "      <td>...</td>\n",
       "      <td>656731821</td>\n",
       "      <td>Ngov chiheang</td>\n",
       "      <td>https://apps.apple.com/us/developer/ngov-chihe...</td>\n",
       "      <td>0.0</td>\n",
       "      <td>0</td>\n",
       "      <td>0.0</td>\n",
       "      <td>0</td>\n",
       "      <td>61.695312</td>\n",
       "      <td>Free</td>\n",
       "      <td>NoReview</td>\n",
       "    </tr>\n",
       "  </tbody>\n",
       "</table>\n",
       "<p>5 rows × 22 columns</p>\n",
       "</div>"
      ],
      "text/plain": [
       "                             App_Id                 App_Name  \\\n",
       "0               com.hkbu.arc.apaper           A+ Paper Guide   \n",
       "1               com.dmitriev.abooks                  A-Books   \n",
       "2                    no.terp.abooks                  A-books   \n",
       "3          fr.antoinettefleur.Book1              A-F Book #1   \n",
       "4  com.imonstersoft.azdictionaryios  A-Z Synonyms Dictionary   \n",
       "\n",
       "                                        AppStore_Url Primary_Genre  \\\n",
       "0  https://apps.apple.com/us/app/a-paper-guide/id...     Education   \n",
       "1  https://apps.apple.com/us/app/a-books/id103157...          Book   \n",
       "2  https://apps.apple.com/us/app/a-books/id145702...          Book   \n",
       "3  https://apps.apple.com/us/app/a-f-book-1/id500...          Book   \n",
       "4  https://apps.apple.com/us/app/a-z-synonyms-dic...     Reference   \n",
       "\n",
       "  Content_Rating  Size_Bytes Required_IOS_Version              Released  \\\n",
       "0       Children  21993472.0                  8.0  2017-09-28T03:02:41Z   \n",
       "1       Children  13135872.0                 10.0  2015-08-31T19:31:32Z   \n",
       "2       Children  21943296.0                  9.0  2021-04-14T07:00:00Z   \n",
       "3       Children  81851392.0                  8.0  2012-02-10T03:40:07Z   \n",
       "4       Children  64692224.0                  9.0  2020-12-16T08:00:00Z   \n",
       "\n",
       "                Updated Version  ...  DeveloperId       Developer  \\\n",
       "0  2018-12-21T21:30:36Z   1.1.2  ...   1375410542        HKBU ARC   \n",
       "1  2019-07-23T20:31:09Z     1.3  ...   1031572001  Roman Dmitriev   \n",
       "2  2021-05-30T21:08:54Z   1.3.1  ...   1457024163         Terp AS   \n",
       "3  2019-10-29T12:40:37Z     1.2  ...    439568839   i-editeur.com   \n",
       "4  2020-12-18T21:36:11Z   1.0.1  ...    656731821   Ngov chiheang   \n",
       "\n",
       "                                       Developer_Url Average_User_Rating  \\\n",
       "0  https://apps.apple.com/us/developer/hkbu-arc/i...                 0.0   \n",
       "1  https://apps.apple.com/us/developer/roman-dmit...                 5.0   \n",
       "2  https://apps.apple.com/us/developer/terp-as/id...                 0.0   \n",
       "3  https://apps.apple.com/us/developer/i-editeur-...                 0.0   \n",
       "4  https://apps.apple.com/us/developer/ngov-chihe...                 0.0   \n",
       "\n",
       "  Reviews  Current_Version_Score  Current_Version_Reviews    Size_MB  Type  \\\n",
       "0       0                    0.0                        0  20.974609  Free   \n",
       "1       1                    5.0                        1  12.527344  Free   \n",
       "2       0                    0.0                        0  20.926758  Free   \n",
       "3       0                    0.0                        0  78.059570  Paid   \n",
       "4       0                    0.0                        0  61.695312  Free   \n",
       "\n",
       "   ReviewCategory  \n",
       "0        NoReview  \n",
       "1        0 to 10k  \n",
       "2        NoReview  \n",
       "3        NoReview  \n",
       "4        NoReview  \n",
       "\n",
       "[5 rows x 22 columns]"
      ]
     },
     "execution_count": 39,
     "metadata": {},
     "output_type": "execute_result"
    }
   ],
   "source": [
    "df.head()"
   ]
  },
  {
   "cell_type": "code",
   "execution_count": 40,
   "id": "ee69b419",
   "metadata": {
    "execution": {
     "iopub.execute_input": "2024-01-22T12:36:10.593336Z",
     "iopub.status.busy": "2024-01-22T12:36:10.592958Z",
     "iopub.status.idle": "2024-01-22T12:36:10.608822Z",
     "shell.execute_reply": "2024-01-22T12:36:10.607958Z"
    },
    "papermill": {
     "duration": 0.045874,
     "end_time": "2024-01-22T12:36:10.611335",
     "exception": false,
     "start_time": "2024-01-22T12:36:10.565461",
     "status": "completed"
    },
    "tags": []
   },
   "outputs": [
    {
     "data": {
      "text/plain": [
       "ReviewCategory\n",
       "NoReview        683549\n",
       "0 to 10k        538691\n",
       "10k to 500k       6725\n",
       "More than 1M       152\n",
       "500k to 1M         146\n",
       "Name: count, dtype: int64"
      ]
     },
     "execution_count": 40,
     "metadata": {},
     "output_type": "execute_result"
    }
   ],
   "source": [
    "df['ReviewCategory'].value_counts()"
   ]
  },
  {
   "cell_type": "code",
   "execution_count": 41,
   "id": "7c51f25d",
   "metadata": {
    "execution": {
     "iopub.execute_input": "2024-01-22T12:36:10.664621Z",
     "iopub.status.busy": "2024-01-22T12:36:10.664205Z",
     "iopub.status.idle": "2024-01-22T12:36:12.335200Z",
     "shell.execute_reply": "2024-01-22T12:36:12.333321Z"
    },
    "papermill": {
     "duration": 1.701323,
     "end_time": "2024-01-22T12:36:12.338013",
     "exception": false,
     "start_time": "2024-01-22T12:36:10.636690",
     "status": "completed"
    },
    "tags": []
   },
   "outputs": [
    {
     "name": "stdout",
     "output_type": "stream",
     "text": [
      "<class 'pandas.core.frame.DataFrame'>\n",
      "Index: 1229263 entries, 0 to 1230375\n",
      "Data columns (total 22 columns):\n",
      " #   Column                   Non-Null Count    Dtype   \n",
      "---  ------                   --------------    -----   \n",
      " 0   App_Id                   1229263 non-null  object  \n",
      " 1   App_Name                 1229263 non-null  object  \n",
      " 2   AppStore_Url             1229263 non-null  object  \n",
      " 3   Primary_Genre            1229263 non-null  object  \n",
      " 4   Content_Rating           1229263 non-null  object  \n",
      " 5   Size_Bytes               1229263 non-null  float64 \n",
      " 6   Required_IOS_Version     1229263 non-null  object  \n",
      " 7   Released                 1229263 non-null  object  \n",
      " 8   Updated                  1229263 non-null  object  \n",
      " 9   Version                  1229263 non-null  object  \n",
      " 10  Price                    1229263 non-null  float64 \n",
      " 11  Currency                 1229263 non-null  object  \n",
      " 12  DeveloperId              1229263 non-null  int64   \n",
      " 13  Developer                1229263 non-null  object  \n",
      " 14  Developer_Url            1229263 non-null  object  \n",
      " 15  Average_User_Rating      1229263 non-null  float64 \n",
      " 16  Reviews                  1229263 non-null  int64   \n",
      " 17  Current_Version_Score    1229263 non-null  float64 \n",
      " 18  Current_Version_Reviews  1229263 non-null  int64   \n",
      " 19  Size_MB                  1229263 non-null  float64 \n",
      " 20  Type                     1229263 non-null  object  \n",
      " 21  ReviewCategory           1229263 non-null  category\n",
      "dtypes: category(1), float64(5), int64(3), object(13)\n",
      "memory usage: 207.5+ MB\n"
     ]
    }
   ],
   "source": [
    "df.info()"
   ]
  },
  {
   "cell_type": "markdown",
   "id": "9adc8d42",
   "metadata": {
    "papermill": {
     "duration": 0.025147,
     "end_time": "2024-01-22T12:36:12.388985",
     "exception": false,
     "start_time": "2024-01-22T12:36:12.363838",
     "status": "completed"
    },
    "tags": []
   },
   "source": [
    "## What are the top 10 most popular app categories in terms of the number of apps available?"
   ]
  },
  {
   "cell_type": "code",
   "execution_count": 42,
   "id": "cb1f6818",
   "metadata": {
    "execution": {
     "iopub.execute_input": "2024-01-22T12:36:12.441307Z",
     "iopub.status.busy": "2024-01-22T12:36:12.440931Z",
     "iopub.status.idle": "2024-01-22T12:36:12.658398Z",
     "shell.execute_reply": "2024-01-22T12:36:12.656957Z"
    },
    "papermill": {
     "duration": 0.246314,
     "end_time": "2024-01-22T12:36:12.660741",
     "exception": false,
     "start_time": "2024-01-22T12:36:12.414427",
     "status": "completed"
    },
    "tags": []
   },
   "outputs": [
    {
     "name": "stdout",
     "output_type": "stream",
     "text": [
      "Primary_Genre\n",
      "Games               193641\n",
      "Business            128203\n",
      "Education           119114\n",
      "Utilities            93937\n",
      "Lifestyle            84493\n",
      "Food & Drink         72815\n",
      "Health & Fitness     60682\n",
      "Productivity         59389\n",
      "Entertainment        53076\n",
      "Shopping             49493\n",
      "Name: count, dtype: int64\n"
     ]
    }
   ],
   "source": [
    "\n",
    "top_10_categories = df['Primary_Genre'].value_counts().head(10)\n",
    "print(top_10_categories)"
   ]
  },
  {
   "cell_type": "markdown",
   "id": "ece2db95",
   "metadata": {
    "papermill": {
     "duration": 0.025212,
     "end_time": "2024-01-22T12:36:12.712321",
     "exception": false,
     "start_time": "2024-01-22T12:36:12.687109",
     "status": "completed"
    },
    "tags": []
   },
   "source": [
    "## Which app has the highest user rating?"
   ]
  },
  {
   "cell_type": "code",
   "execution_count": 43,
   "id": "6d7d0911",
   "metadata": {
    "execution": {
     "iopub.execute_input": "2024-01-22T12:36:12.766184Z",
     "iopub.status.busy": "2024-01-22T12:36:12.765094Z",
     "iopub.status.idle": "2024-01-22T12:36:12.881844Z",
     "shell.execute_reply": "2024-01-22T12:36:12.880654Z"
    },
    "papermill": {
     "duration": 0.146522,
     "end_time": "2024-01-22T12:36:12.884363",
     "exception": false,
     "start_time": "2024-01-22T12:36:12.737841",
     "status": "completed"
    },
    "tags": []
   },
   "outputs": [
    {
     "name": "stdout",
     "output_type": "stream",
     "text": [
      "A-Books\n"
     ]
    }
   ],
   "source": [
    "\n",
    "highest_user_rating_app = df[df['Average_User_Rating'] == df['Average_User_Rating'].max()]['App_Name'].values[0]\n",
    "print(highest_user_rating_app)\n"
   ]
  },
  {
   "cell_type": "markdown",
   "id": "d0168b92",
   "metadata": {
    "papermill": {
     "duration": 0.025206,
     "end_time": "2024-01-22T12:36:12.935554",
     "exception": false,
     "start_time": "2024-01-22T12:36:12.910348",
     "status": "completed"
    },
    "tags": []
   },
   "source": [
    "## What is the distribution of app prices in the dataset?"
   ]
  },
  {
   "cell_type": "code",
   "execution_count": 44,
   "id": "10071fee",
   "metadata": {
    "execution": {
     "iopub.execute_input": "2024-01-22T12:36:12.989174Z",
     "iopub.status.busy": "2024-01-22T12:36:12.988490Z",
     "iopub.status.idle": "2024-01-22T12:36:13.005228Z",
     "shell.execute_reply": "2024-01-22T12:36:13.003959Z"
    },
    "papermill": {
     "duration": 0.046539,
     "end_time": "2024-01-22T12:36:13.007790",
     "exception": false,
     "start_time": "2024-01-22T12:36:12.961251",
     "status": "completed"
    },
    "tags": []
   },
   "outputs": [
    {
     "name": "stdout",
     "output_type": "stream",
     "text": [
      "Price\n",
      "0.00      1126288\n",
      "0.99        33810\n",
      "1.99        19901\n",
      "2.99        13243\n",
      "4.99         8815\n",
      "           ...   \n",
      "899.99          4\n",
      "799.99          3\n",
      "239.99          3\n",
      "599.99          3\n",
      "189.99          2\n",
      "Name: count, Length: 89, dtype: int64\n"
     ]
    }
   ],
   "source": [
    "\n",
    "app_prices_distribution = df['Price'].value_counts()\n",
    "print(app_prices_distribution)"
   ]
  },
  {
   "cell_type": "markdown",
   "id": "eb72e2a2",
   "metadata": {
    "papermill": {
     "duration": 0.02554,
     "end_time": "2024-01-22T12:36:13.059364",
     "exception": false,
     "start_time": "2024-01-22T12:36:13.033824",
     "status": "completed"
    },
    "tags": []
   },
   "source": [
    "## Which category has the highest average user rating?"
   ]
  },
  {
   "cell_type": "code",
   "execution_count": 45,
   "id": "1afcb16c",
   "metadata": {
    "execution": {
     "iopub.execute_input": "2024-01-22T12:36:13.113016Z",
     "iopub.status.busy": "2024-01-22T12:36:13.112574Z",
     "iopub.status.idle": "2024-01-22T12:36:13.276401Z",
     "shell.execute_reply": "2024-01-22T12:36:13.274306Z"
    },
    "papermill": {
     "duration": 0.193739,
     "end_time": "2024-01-22T12:36:13.279073",
     "exception": false,
     "start_time": "2024-01-22T12:36:13.085334",
     "status": "completed"
    },
    "tags": []
   },
   "outputs": [
    {
     "name": "stdout",
     "output_type": "stream",
     "text": [
      "Primary_Genre\n",
      "Weather                   2.594274\n",
      "Games                     2.554565\n",
      "Photo & Video             2.305483\n",
      "Music                     2.253552\n",
      "Book                      2.182689\n",
      "Reference                 2.180691\n",
      "Finance                   2.110937\n",
      "Entertainment             2.021099\n",
      "Social Networking         1.994184\n",
      "Health & Fitness          1.848775\n",
      "Lifestyle                 1.799929\n",
      "Education                 1.769151\n",
      "Sports                    1.728943\n",
      "Medical                   1.719698\n",
      "News                      1.628249\n",
      "Magazines & Newspapers    1.602803\n",
      "Navigation                1.520807\n",
      "Graphics & Design         1.517075\n",
      "Shopping                  1.514652\n",
      "Stickers                  1.483230\n",
      "Productivity              1.422830\n",
      "Utilities                 1.407542\n",
      "Travel                    1.295708\n",
      "Business                  1.275922\n",
      "Food & Drink              1.118196\n",
      "Developer Tools           0.787644\n",
      "Name: Average_User_Rating, dtype: float64\n"
     ]
    }
   ],
   "source": [
    "\n",
    "highest_avg_rating_category = df.groupby('Primary_Genre')['Average_User_Rating'].mean().sort_values(ascending = False)\n",
    "print(highest_avg_rating_category)"
   ]
  },
  {
   "cell_type": "markdown",
   "id": "14b2e602",
   "metadata": {
    "papermill": {
     "duration": 0.026121,
     "end_time": "2024-01-22T12:36:13.331559",
     "exception": false,
     "start_time": "2024-01-22T12:36:13.305438",
     "status": "completed"
    },
    "tags": []
   },
   "source": [
    "## What is the relationship between the size of an app and its price?"
   ]
  },
  {
   "cell_type": "code",
   "execution_count": 46,
   "id": "a927840e",
   "metadata": {
    "execution": {
     "iopub.execute_input": "2024-01-22T12:36:13.386135Z",
     "iopub.status.busy": "2024-01-22T12:36:13.385734Z",
     "iopub.status.idle": "2024-01-22T12:36:13.438102Z",
     "shell.execute_reply": "2024-01-22T12:36:13.436668Z"
    },
    "papermill": {
     "duration": 0.082689,
     "end_time": "2024-01-22T12:36:13.441101",
     "exception": false,
     "start_time": "2024-01-22T12:36:13.358412",
     "status": "completed"
    },
    "tags": []
   },
   "outputs": [
    {
     "name": "stdout",
     "output_type": "stream",
     "text": [
      "          Size_MB     Price\n",
      "Size_MB  1.000000  0.056322\n",
      "Price    0.056322  1.000000\n"
     ]
    }
   ],
   "source": [
    "\n",
    "size_price_relation = df[['Size_MB', 'Price']].corr()\n",
    "print(size_price_relation)"
   ]
  },
  {
   "cell_type": "markdown",
   "id": "33ea38bb",
   "metadata": {
    "papermill": {
     "duration": 0.026229,
     "end_time": "2024-01-22T12:36:13.493947",
     "exception": false,
     "start_time": "2024-01-22T12:36:13.467718",
     "status": "completed"
    },
    "tags": []
   },
   "source": [
    "## Which app has the highest number of user reviews?"
   ]
  },
  {
   "cell_type": "code",
   "execution_count": 47,
   "id": "0ee03ae0",
   "metadata": {
    "execution": {
     "iopub.execute_input": "2024-01-22T12:36:13.548361Z",
     "iopub.status.busy": "2024-01-22T12:36:13.547760Z",
     "iopub.status.idle": "2024-01-22T12:36:13.557350Z",
     "shell.execute_reply": "2024-01-22T12:36:13.556183Z"
    },
    "papermill": {
     "duration": 0.039702,
     "end_time": "2024-01-22T12:36:13.559856",
     "exception": false,
     "start_time": "2024-01-22T12:36:13.520154",
     "status": "completed"
    },
    "tags": []
   },
   "outputs": [
    {
     "name": "stdout",
     "output_type": "stream",
     "text": [
      "YouTube: Watch, Listen, Stream\n"
     ]
    }
   ],
   "source": [
    "\n",
    "highest_user_reviews_app = df[df['Reviews'] == df['Reviews'].max()]['App_Name'].values[0]\n",
    "print(highest_user_reviews_app)"
   ]
  },
  {
   "cell_type": "markdown",
   "id": "d94de1fe",
   "metadata": {
    "papermill": {
     "duration": 0.026117,
     "end_time": "2024-01-22T12:36:13.611926",
     "exception": false,
     "start_time": "2024-01-22T12:36:13.585809",
     "status": "completed"
    },
    "tags": []
   },
   "source": [
    "## Is there a correlation between the size of an app and its user rating?"
   ]
  },
  {
   "cell_type": "code",
   "execution_count": 48,
   "id": "01f2cf39",
   "metadata": {
    "execution": {
     "iopub.execute_input": "2024-01-22T12:36:13.666849Z",
     "iopub.status.busy": "2024-01-22T12:36:13.666434Z",
     "iopub.status.idle": "2024-01-22T12:36:13.711808Z",
     "shell.execute_reply": "2024-01-22T12:36:13.710791Z"
    },
    "papermill": {
     "duration": 0.076315,
     "end_time": "2024-01-22T12:36:13.714517",
     "exception": false,
     "start_time": "2024-01-22T12:36:13.638202",
     "status": "completed"
    },
    "tags": []
   },
   "outputs": [
    {
     "name": "stdout",
     "output_type": "stream",
     "text": [
      "                      Size_MB  Average_User_Rating\n",
      "Size_MB              1.000000             0.048419\n",
      "Average_User_Rating  0.048419             1.000000\n"
     ]
    }
   ],
   "source": [
    "\n",
    "app_size_rating_correlation = df[['Size_MB', 'Average_User_Rating']].corr()\n",
    "print(app_size_rating_correlation)"
   ]
  }
 ],
 "metadata": {
  "kaggle": {
   "accelerator": "none",
   "dataSources": [
    {
     "datasetId": 1647105,
     "sourceId": 2704074,
     "sourceType": "datasetVersion"
    }
   ],
   "dockerImageVersionId": 30635,
   "isGpuEnabled": false,
   "isInternetEnabled": true,
   "language": "python",
   "sourceType": "notebook"
  },
  "kernelspec": {
   "display_name": "Python 3",
   "language": "python",
   "name": "python3"
  },
  "language_info": {
   "codemirror_mode": {
    "name": "ipython",
    "version": 3
   },
   "file_extension": ".py",
   "mimetype": "text/x-python",
   "name": "python",
   "nbconvert_exporter": "python",
   "pygments_lexer": "ipython3",
   "version": "3.10.12"
  },
  "papermill": {
   "default_parameters": {},
   "duration": 95.75707,
   "end_time": "2024-01-22T12:36:14.964938",
   "environment_variables": {},
   "exception": null,
   "input_path": "__notebook__.ipynb",
   "output_path": "__notebook__.ipynb",
   "parameters": {},
   "start_time": "2024-01-22T12:34:39.207868",
   "version": "2.4.0"
  }
 },
 "nbformat": 4,
 "nbformat_minor": 5
}
